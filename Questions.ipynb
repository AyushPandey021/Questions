{
 "cells": [
  {
   "cell_type": "markdown",
   "id": "5f8a4acb",
   "metadata": {},
   "source": [
    "Top 30 ImP Question Must be slove ,\n",
    "Variables, Data Types, Input/Output, Loops, Conditionals\n"
   ]
  },
  {
   "cell_type": "code",
   "execution_count": null,
   "id": "f31961f7",
   "metadata": {},
   "outputs": [],
   "source": [
    "# Q1. Write a Python program to swap two variables.\n",
    "a = 4 \n",
    "b = 7 \n",
    "c = a ,b  = b , a\n",
    "print(c)"
   ]
  },
  {
   "cell_type": "code",
   "execution_count": null,
   "id": "ecab7763",
   "metadata": {},
   "outputs": [],
   "source": [
    "# Q2. Take user input and display it back to the user\n",
    "user_Input = input(\"Enter something..\")\n",
    "print(user_Input)"
   ]
  },
  {
   "cell_type": "code",
   "execution_count": null,
   "id": "77a62fad",
   "metadata": {},
   "outputs": [],
   "source": [
    "# Q3. Write a program to check if a number is even or odd.\n",
    "num = int(input(\"Enter Number\"))\n",
    "if num % 2 ==0:\n",
    "  print(\"Number is Even\")\n",
    "else:\n",
    "  print(\"Numver is Odd\")"
   ]
  },
  {
   "cell_type": "code",
   "execution_count": null,
   "id": "f4ec1004",
   "metadata": {},
   "outputs": [],
   "source": [
    "# Q4. Create a program that prints the multiplication table of a given number.\n",
    "num = int(input(\"Enter Number\"))\n",
    "for i in range(1,11):\n",
    "   print(f\"{num} x {i} = {num*i}\")"
   ]
  },
  {
   "cell_type": "code",
   "execution_count": null,
   "id": "c91ab4ed",
   "metadata": {},
   "outputs": [],
   "source": [
    "# Q5. Write a program to find the largest of three numbers.\n",
    "num1 =  int(input(\"Enter Number 1: \"))\n",
    "num2 =  int(input(\"Enter Number 2: \"))\n",
    "num3 =  int(input(\"Enter Number 3: \"))\n",
    "if (num1>=num2) or (num1>=num3):\n",
    "   largest= num1 \n",
    "elif (num2>=num1) or (num2>=num3):\n",
    "   largest= num2\n",
    "else:\n",
    "   largest = num3\n",
    "\n",
    "print(largest)\n",
    "   "
   ]
  },
  {
   "cell_type": "code",
   "execution_count": null,
   "id": "ee458701",
   "metadata": {},
   "outputs": [],
   "source": [
    "# Q6. Convert temperature from Celsius to Fahrenheit.\n",
    "# Input temperature in Fahrenheit\n",
    "fahrenheit = float(input(\"Enter temperature in Fahrenheit: \"))\n",
    "\n",
    "# Convert Fahrenheit to Celsius\n",
    "celsius = (fahrenheit - 32) * 5 / 9\n",
    "\n",
    "# Display the result\n",
    "print(f\"{fahrenheit}°F is equal to {celsius:.2f}°C\")\n",
    "# dabut\n"
   ]
  },
  {
   "cell_type": "code",
   "execution_count": null,
   "id": "4fcf7b10",
   "metadata": {},
   "outputs": [],
   "source": [
    "# Q7. Write a program to calculate the factorial of a number using a loop.\n",
    "N = int(input(\"Enter number..\"))\n",
    "sum = 1\n",
    "for i in range(2,N+1):\n",
    "  sum*=i\n",
    "print(sum)"
   ]
  },
  {
   "cell_type": "code",
   "execution_count": null,
   "id": "97b83ef2",
   "metadata": {},
   "outputs": [],
   "source": [
    "# Q8. Create a program to count the number of vowels in a string.\n",
    "val = input(\"Enter name\")\n",
    "vowal = \"AEIOUaeiou\"\n",
    "v_count=0\n",
    "c_count=0\n",
    "for i in val:\n",
    " if i in vowal:\n",
    "   v_count+=1\n",
    " else: \n",
    "   c_count+=1\n",
    "\n",
    "print(f\"The value of Vowel is {v_count} and Constant is {c_count}\")\n",
    "  \n"
   ]
  },
  {
   "cell_type": "code",
   "execution_count": null,
   "id": "84e240cf",
   "metadata": {},
   "outputs": [],
   "source": [
    "# Q9. Write a Python script to reverse a given string\n",
    "a = \"Ayush ayush\" \n",
    "\"\"\n",
    "rev= \"\"\n",
    "for i in a:\n",
    "  rev = i + rev\n",
    "print(rev)"
   ]
  },
  {
   "cell_type": "code",
   "execution_count": null,
   "id": "f69100f2",
   "metadata": {},
   "outputs": [],
   "source": [
    "# Q10. Check if a number is a palindrome.\n",
    "s = \"malylam\"\n",
    "if s==s[::-1]:\n",
    "  print(\"Pilimdrone\")\n",
    "else: \n",
    "  print(\"not one \")"
   ]
  },
  {
   "cell_type": "code",
   "execution_count": null,
   "id": "36abf133",
   "metadata": {},
   "outputs": [],
   "source": [
    "# Q11. Write a program to find the sum of first N natural numbers.\n",
    "\n",
    "num = int(input(\"Enter\"))\n",
    "sum = 0 \n",
    "for i in range(1,num+1):\n",
    "   sum +=i\n",
    "print(sum)\n",
    "  \n"
   ]
  },
  {
   "cell_type": "code",
   "execution_count": null,
   "id": "8afda074",
   "metadata": {},
   "outputs": [],
   "source": [
    "# Q12. Create a number guessing game.\n",
    "import random\n",
    "\n",
    "# 1. Secret number choose (1-100)\n",
    "secret = random.randint(1, 100)\n",
    "\n",
    "print(\"🎯 Guess the Number Game (Binary Hint Style)!\")\n",
    "print(\"I have chosen a number between 1 and 100.\")\n",
    "\n",
    "low, high = 1, 100\n",
    "attempts = 0\n",
    "\n",
    "while True:\n",
    "    guess = int(input(f\"Enter your guess ({low}-{high}): \"))\n",
    "    attempts += 1\n",
    "    \n",
    "    if guess == secret:\n",
    "        print(f\"🎉 Correct! The number was {secret}. Attempts: {attempts}\")\n",
    "        break\n",
    "    elif guess < secret:\n",
    "        print(\"⬆️ Too low!\")\n",
    "        low = max(low, guess + 1)  # Hint: number is higher\n",
    "    else:\n",
    "        print(\"⬇️ Too high!\")\n",
    "        high = min(high, guess - 1)  # Hint: number is lower\n"
   ]
  },
  {
   "cell_type": "code",
   "execution_count": null,
   "id": "91f81619",
   "metadata": {},
   "outputs": [],
   "source": [
    "# Q13. Write a program to print all prime numbers between 1 and 100\n",
    "import math\n",
    "for num in range(1,101):\n",
    "  is_Prime= True\n",
    "  for n in range(2,int(math.sqrt(num))+1):\n",
    "    if num%n ==0:\n",
    "     is_Prime= False\n",
    "     break\n",
    "  if is_Prime:\n",
    "    print(num)"
   ]
  },
  {
   "cell_type": "code",
   "execution_count": null,
   "id": "5a83d9a6",
   "metadata": {},
   "outputs": [],
   "source": [
    "# Q14. Check if a given year is a leap year or not.\n",
    "Year = int(input(\"Enter Year...\"))\n",
    "if(Year%4==0)or (Year %400 == 0):\n",
    "  print(\"Year is leap \")\n",
    "else:\n",
    "  print(\"Not Leap Year\")"
   ]
  },
  {
   "cell_type": "code",
   "execution_count": null,
   "id": "6c928355",
   "metadata": {},
   "outputs": [],
   "source": [
    "# Q15. Create a program to print the Fibonacci series up to N terms\n",
    "N = int(input(\"Enter Number..\"))\n",
    "a = 0 \n",
    "b=1 \n",
    "for i in range(N):\n",
    "  print(a,end=\" \")\n",
    "  a,b=b,a+b\n"
   ]
  },
  {
   "cell_type": "code",
   "execution_count": 10,
   "id": "73aa5fee",
   "metadata": {},
   "outputs": [
    {
     "name": "stdout",
     "output_type": "stream",
     "text": [
      "GCD is :  1\n",
      "LCM is :  12\n"
     ]
    }
   ],
   "source": [
    "# Q16. Write a program to find the GCD of two numbers\n",
    "\n",
    "a = int(input(\"Enter 1 \"))\n",
    "b = int(input(\"Enter 2 \"))\n",
    "x,y=a,b\n",
    "while b !=0 :\n",
    "  a,b=b,a%b\n",
    "gcd = a \n",
    "lcm= (x*y)\n",
    "print(\"GCD is : \",gcd)\n",
    "print(\"LCM is : \",lcm)\n",
    "\n",
    "\n",
    "\n"
   ]
  },
  {
   "cell_type": "code",
   "execution_count": null,
   "id": "7acde708",
   "metadata": {},
   "outputs": [],
   "source": [
    "# Q17. Write a program to find the LCM of two numbers.\n"
   ]
  },
  {
   "cell_type": "code",
   "execution_count": null,
   "id": "e10eb62d",
   "metadata": {},
   "outputs": [],
   "source": [
    "# Q18. Check whether a character is a vowel or consonant."
   ]
  },
  {
   "cell_type": "code",
   "execution_count": 105,
   "id": "439d02e8",
   "metadata": {},
   "outputs": [
    {
     "name": "stdout",
     "output_type": "stream",
     "text": [
      "4\n"
     ]
    }
   ],
   "source": [
    "# Q19. Write a program to calculate the sum of digits of a number\n",
    "\n",
    "n = int(input(\"Enter Number\"))\n",
    "count= 0 \n",
    "while n>0:\n",
    "  n//=10\n",
    "  count+=1\n",
    "print(count)"
   ]
  },
  {
   "cell_type": "code",
   "execution_count": null,
   "id": "a6c430f8",
   "metadata": {},
   "outputs": [
    {
     "name": "stdout",
     "output_type": "stream",
     "text": [
      "leargest : 756\n",
      "Second Leargest : 67\n"
     ]
    }
   ],
   "source": [
    "# Q20. Create a program to find the second largest number in a list.\n",
    "lst = [23,34,3,56,7,58,67,58,6,756,78,66,534]\n",
    "l1=lst[0]\n",
    "l2= lst[1]\n",
    "if l1>l2:\n",
    "  l1,l2= l2,l1\n",
    "for i in lst[2:]:\n",
    "  if i > l1:\n",
    "    l2= l1\n",
    "    l1=i \n",
    "  elif i>l2 and i !=l1:\n",
    "    l2 = i \n",
    "print( \"leargest :\",l1)\n",
    "print(\"Second Leargest :\",l2)\n",
    "\n",
    "\n",
    "\n"
   ]
  },
  {
   "cell_type": "code",
   "execution_count": 7,
   "id": "69799d73",
   "metadata": {},
   "outputs": [
    {
     "name": "stdout",
     "output_type": "stream",
     "text": [
      "Total Count of chracter: 4\n"
     ]
    }
   ],
   "source": [
    "# Q21. Write a program to count the number of digits in an integer.\n",
    "try: \n",
    "  num = int(input(\"Enter a Number.\"))\n",
    "  n = num \n",
    "  count= 0 \n",
    "  if n ==0:\n",
    "   count= 1\n",
    "  else: \n",
    "     while n>0:\n",
    "       n //=10\n",
    "       count+=1\n",
    "  print(\"Total Count of chracter:\",count)\n",
    "except Exception as e:\n",
    "  print(\"only integer value enter : \",e)\n"
   ]
  },
  {
   "cell_type": "code",
   "execution_count": 21,
   "id": "1dfbfb88",
   "metadata": {},
   "outputs": [
    {
     "name": "stdout",
     "output_type": "stream",
     "text": [
      "1 is Aemstrong\n",
      "2 is Aemstrong\n",
      "3 is Aemstrong\n",
      "4 is Aemstrong\n",
      "5 is Aemstrong\n",
      "6 is Aemstrong\n",
      "7 is Aemstrong\n",
      "8 is Aemstrong\n",
      "9 is Aemstrong\n",
      "153 is Aemstrong\n",
      "370 is Aemstrong\n",
      "371 is Aemstrong\n",
      "407 is Aemstrong\n"
     ]
    }
   ],
   "source": [
    "# Q22. Create a program to print all Armstrong numbers between 1 to 1000\n",
    "for num in range(1,1001):\n",
    "  n = num \n",
    "  res= 0\n",
    "  power = len(str(num))\n",
    "  while n>0:\n",
    "    id = n %10\n",
    "    res += id**power \n",
    "    n //=10\n",
    "  if res==num:\n",
    "     print(num,\"is Aemstrong\" )\n",
    "\n",
    "\n",
    "\n",
    " \n",
    "\n"
   ]
  },
  {
   "cell_type": "code",
   "execution_count": null,
   "id": "ddbc2ad0",
   "metadata": {},
   "outputs": [
    {
     "name": "stdout",
     "output_type": "stream",
     "text": [
      "* * * * * \n",
      "* * * * \n",
      "* * * \n",
      "* * \n",
      "* \n"
     ]
    }
   ],
   "source": [
    "# Q23. Write a Python program to print a pattern of stars in a triangle.\n",
    "n = 5 \n",
    "for i in range(n,0,-1):\n",
    "  for j in range(i):\n",
    "    print(\"*\",end=\" \")\n",
    "\n",
    "  print()\n"
   ]
  },
  {
   "cell_type": "code",
   "execution_count": 61,
   "id": "c2e08396",
   "metadata": {},
   "outputs": [
    {
     "name": "stdout",
     "output_type": "stream",
     "text": [
      "ent opreation + - * /:\n",
      "Result 11\n"
     ]
    }
   ],
   "source": [
    "# Q24. Create a calculator app using if-else.i\n",
    "num1= int(input(\"en 1 \"))\n",
    "\n",
    "num2= int(input(\"en 2 \"))\n",
    "print(\"ent opreation + - * /:\")\n",
    "op = input(\"Enter Opreator: \")\n",
    "if op=='+':\n",
    "  print(\"Result\",num1+num2)\n",
    "elif op=='-':\n",
    "  print(\"Result\",num1-num2)\n",
    "elif op=='*':\n",
    "  print(\"Result\",num1*num2)\n",
    "elif op=='/':\n",
    "  print(\"Result\",num1/num2)\n",
    "\n",
    "\n",
    "\n",
    "\n"
   ]
  },
  {
   "cell_type": "code",
   "execution_count": null,
   "id": "9e20f21c",
   "metadata": {},
   "outputs": [
    {
     "name": "stdout",
     "output_type": "stream",
     "text": [
      "97\n"
     ]
    }
   ],
   "source": [
    "# Q25. Write a program to display the ASCII value of a character.\n",
    "a=input(\"Enter Character \")\n",
    "print(ord(a))"
   ]
  },
  {
   "cell_type": "code",
   "execution_count": 77,
   "id": "bc5c07bf",
   "metadata": {},
   "outputs": [
    {
     "name": "stdout",
     "output_type": "stream",
     "text": [
      "0b111\n"
     ]
    }
   ],
   "source": [
    "# Q26. Convert a decimal number to binary using loops..\n",
    "a = int(input(\"Enter a Decimal Number\"))\n",
    "print(bin(a))\n"
   ]
  },
  {
   "cell_type": "code",
   "execution_count": 89,
   "id": "c8f677a3",
   "metadata": {},
   "outputs": [
    {
     "name": "stdout",
     "output_type": "stream",
     "text": [
      "2.0\n"
     ]
    }
   ],
   "source": [
    "# Q27. Create a program to find the square root of a number\n",
    "a = int(input(\"Enter a Number.\"))\n",
    "print(float(a//2))"
   ]
  },
  {
   "cell_type": "code",
   "execution_count": null,
   "id": "fb212795",
   "metadata": {},
   "outputs": [
    {
     "name": "stdout",
     "output_type": "stream",
     "text": [
      "30\n"
     ]
    }
   ],
   "source": [
    "# Q28. Write a program to find the sum of all even numbers in a list.\n",
    "\n",
    "lst = [3,4,6,3,5,6,3]\n",
    "total = 0 \n",
    "for i in lst:\n",
    "  total+=i\n",
    "print(\"Sum of List :\" ,total)\n",
    "\n",
    "\n",
    "\n",
    "\n"
   ]
  },
  {
   "cell_type": "code",
   "execution_count": 126,
   "id": "fd10779b",
   "metadata": {},
   "outputs": [],
   "source": [
    "\n",
    "# Q29. Create a program to check whether a number is prime or not\n",
    "\n",
    "n= int(input(\"Eaopdk\"))\n",
    "for i in range(2,n):\n",
    "\n",
    "    if n %i==0:\n",
    "      print(\"false\")\n",
    "      break\n",
    "    else:  \n",
    "      print(True)\n",
    "      break\n"
   ]
  },
  {
   "cell_type": "code",
   "execution_count": null,
   "id": "ec005dc2",
   "metadata": {},
   "outputs": [],
   "source": [
    "# Q30. Write a program to display the cube of the number up to an integer"
   ]
  }
 ],
 "metadata": {
  "kernelspec": {
   "display_name": "base",
   "language": "python",
   "name": "python3"
  },
  "language_info": {
   "codemirror_mode": {
    "name": "ipython",
    "version": 3
   },
   "file_extension": ".py",
   "mimetype": "text/x-python",
   "name": "python",
   "nbconvert_exporter": "python",
   "pygments_lexer": "ipython3",
   "version": "3.13.5"
  }
 },
 "nbformat": 4,
 "nbformat_minor": 5
}
