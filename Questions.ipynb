{
 "cells": [
  {
   "cell_type": "markdown",
   "id": "5f8a4acb",
   "metadata": {},
   "source": [
    "Top 30 ImP Question Must be slove ,\n",
    "Variables, Data Types, Input/Output, Loops, Conditionals\n"
   ]
  },
  {
   "cell_type": "code",
   "execution_count": null,
   "id": "f31961f7",
   "metadata": {},
   "outputs": [],
   "source": [
    "# Q1. Write a Python program to swap two variables.\n",
    "a = 4 \n",
    "b = 7 \n",
    "c = a ,b  = b , a\n",
    "print(c)"
   ]
  },
  {
   "cell_type": "code",
   "execution_count": null,
   "id": "ecab7763",
   "metadata": {},
   "outputs": [],
   "source": [
    "# Q2. Take user input and display it back to the user\n",
    "user_Input = input(\"Enter something..\")\n",
    "print(user_Input)"
   ]
  },
  {
   "cell_type": "code",
   "execution_count": null,
   "id": "77a62fad",
   "metadata": {},
   "outputs": [],
   "source": [
    "# Q3. Write a program to check if a number is even or odd.\n",
    "num = int(input(\"Enter Number\"))\n",
    "if num % 2 ==0:\n",
    "  print(\"Number is Even\")\n",
    "else:\n",
    "  print(\"Numver is Odd\")"
   ]
  },
  {
   "cell_type": "code",
   "execution_count": null,
   "id": "f4ec1004",
   "metadata": {},
   "outputs": [],
   "source": [
    "# Q4. Create a program that prints the multiplication table of a given number.\n",
    "num = int(input(\"Enter Number\"))\n",
    "for i in range(1,11):\n",
    "   print(f\"{num} x {i} = {num*i}\")"
   ]
  },
  {
   "cell_type": "code",
   "execution_count": null,
   "id": "c91ab4ed",
   "metadata": {},
   "outputs": [],
   "source": [
    "# Q5. Write a program to find the largest of three numbers.\n",
    "num1 =  int(input(\"Enter Number 1: \"))\n",
    "num2 =  int(input(\"Enter Number 2: \"))\n",
    "num3 =  int(input(\"Enter Number 3: \"))\n",
    "if (num1>=num2) or (num1>=num3):\n",
    "   largest= num1 \n",
    "elif (num2>=num1) or (num2>=num3):\n",
    "   largest= num2\n",
    "else:\n",
    "   largest = num3\n",
    "\n",
    "print(largest)\n",
    "   "
   ]
  },
  {
   "cell_type": "code",
   "execution_count": null,
   "id": "ee458701",
   "metadata": {},
   "outputs": [],
   "source": [
    "# Q6. Convert temperature from Celsius to Fahrenheit.\n",
    "# Input temperature in Fahrenheit\n",
    "fahrenheit = float(input(\"Enter temperature in Fahrenheit: \"))\n",
    "\n",
    "# Convert Fahrenheit to Celsius\n",
    "celsius = (fahrenheit - 32) * 5 / 9\n",
    "\n",
    "# Display the result\n",
    "print(f\"{fahrenheit}°F is equal to {celsius:.2f}°C\")\n",
    "# dabut\n"
   ]
  },
  {
   "cell_type": "code",
   "execution_count": null,
   "id": "4fcf7b10",
   "metadata": {},
   "outputs": [],
   "source": [
    "# Q7. Write a program to calculate the factorial of a number using a loop.\n",
    "N = int(input(\"Enter number..\"))\n",
    "sum = 1\n",
    "for i in range(2,N+1):\n",
    "  sum*=i\n",
    "print(sum)"
   ]
  },
  {
   "cell_type": "code",
   "execution_count": null,
   "id": "97b83ef2",
   "metadata": {},
   "outputs": [],
   "source": [
    "# Q8. Create a program to count the number of vowels in a string.\n",
    "val = input(\"Enter name\")\n",
    "vowal = \"AEIOUaeiou\"\n",
    "v_count=0\n",
    "c_count=0\n",
    "for i in val:\n",
    " if i in vowal:\n",
    "   v_count+=1\n",
    " else: \n",
    "   c_count+=1\n",
    "\n",
    "print(f\"The value of Vowel is {v_count} and Constant is {c_count}\")\n",
    "  \n"
   ]
  },
  {
   "cell_type": "code",
   "execution_count": null,
   "id": "84e240cf",
   "metadata": {},
   "outputs": [],
   "source": [
    "# Q9. Write a Python script to reverse a given string\n",
    "a = \"Ayush ayush\" \n",
    "\"\"\n",
    "rev= \"\"\n",
    "for i in a:\n",
    "  rev = i + rev\n",
    "print(rev)"
   ]
  },
  {
   "cell_type": "code",
   "execution_count": null,
   "id": "f69100f2",
   "metadata": {},
   "outputs": [],
   "source": [
    "# Q10. Check if a number is a palindrome.\n",
    "s = \"malylam\"\n",
    "if s==s[::-1]:\n",
    "  print(\"Pilimdrone\")\n",
    "else: \n",
    "  print(\"not one \")"
   ]
  },
  {
   "cell_type": "code",
   "execution_count": null,
   "id": "36abf133",
   "metadata": {},
   "outputs": [],
   "source": [
    "# Q11. Write a program to find the sum of first N natural numbers.\n",
    "\n",
    "num = int(input(\"Enter\"))\n",
    "sum = 0 \n",
    "for i in range(1,num+1):\n",
    "   sum +=i\n",
    "print(sum)\n",
    "  \n"
   ]
  },
  {
   "cell_type": "code",
   "execution_count": null,
   "id": "8afda074",
   "metadata": {},
   "outputs": [],
   "source": [
    "# Q12. Create a number guessing game.\n",
    "import random\n",
    "\n",
    "# 1. Secret number choose (1-100)\n",
    "secret = random.randint(1, 100)\n",
    "\n",
    "print(\"🎯 Guess the Number Game (Binary Hint Style)!\")\n",
    "print(\"I have chosen a number between 1 and 100.\")\n",
    "\n",
    "low, high = 1, 100\n",
    "attempts = 0\n",
    "\n",
    "while True:\n",
    "    guess = int(input(f\"Enter your guess ({low}-{high}): \"))\n",
    "    attempts += 1\n",
    "    \n",
    "    if guess == secret:\n",
    "        print(f\"🎉 Correct! The number was {secret}. Attempts: {attempts}\")\n",
    "        break\n",
    "    elif guess < secret:\n",
    "        print(\"⬆️ Too low!\")\n",
    "        low = max(low, guess + 1)  # Hint: number is higher\n",
    "    else:\n",
    "        print(\"⬇️ Too high!\")\n",
    "        high = min(high, guess - 1)  # Hint: number is lower\n"
   ]
  },
  {
   "cell_type": "code",
   "execution_count": null,
   "id": "91f81619",
   "metadata": {},
   "outputs": [],
   "source": [
    "# Q13. Write a program to print all prime numbers between 1 and 100\n",
    "import math\n",
    "for num in range(1,101):\n",
    "  is_Prime= True\n",
    "  for n in range(2,int(math.sqrt(num))+1):\n",
    "    if num%n ==0:\n",
    "     is_Prime= False\n",
    "     break\n",
    "  if is_Prime:\n",
    "    print(num)"
   ]
  },
  {
   "cell_type": "code",
   "execution_count": null,
   "id": "5a83d9a6",
   "metadata": {},
   "outputs": [],
   "source": [
    "# Q14. Check if a given year is a leap year or not.\n",
    "Year = int(input(\"Enter Year...\"))\n",
    "if(Year%4==0)or (Year %400 == 0):\n",
    "  print(\"Year is leap \")\n",
    "else:\n",
    "  print(\"Not Leap Year\")"
   ]
  },
  {
   "cell_type": "code",
   "execution_count": null,
   "id": "6c928355",
   "metadata": {},
   "outputs": [],
   "source": [
    "# Q15. Create a program to print the Fibonacci series up to N terms\n",
    "N = int(input(\"Enter Number..\"))\n",
    "a = 0 \n",
    "b=1 \n",
    "for i in range(N):\n",
    "  print(a,end=\" \")\n",
    "  a,b=b,a+b\n"
   ]
  },
  {
   "cell_type": "code",
   "execution_count": null,
   "id": "73aa5fee",
   "metadata": {},
   "outputs": [],
   "source": [
    "# Q16. Write a program to find the GCD of two numbers\n",
    "\n",
    "a = int(input(\"Enter 1 \"))\n",
    "b = int(input(\"Enter 2 \"))\n",
    "x,y=a,b\n",
    "while b !=0 :\n",
    "  a,b=b,a%b\n",
    "gcd = a \n",
    "lcm= (x*y)\n",
    "print(\"GCD is : \",gcd)\n",
    "print(\"LCM is : \",lcm)\n",
    "\n",
    "\n",
    "\n"
   ]
  },
  {
   "cell_type": "code",
   "execution_count": null,
   "id": "7acde708",
   "metadata": {},
   "outputs": [],
   "source": [
    "# Q17. Write a program to find the LCM of two numbers.\n"
   ]
  },
  {
   "cell_type": "code",
   "execution_count": null,
   "id": "e10eb62d",
   "metadata": {},
   "outputs": [
    {
     "name": "stdout",
     "output_type": "stream",
     "text": [
      "Const\n"
     ]
    }
   ],
   "source": [
    "# Q18. Check whether a character is a vowel or consonant.\n",
    "try:\n",
    " n = input(\"asdjasd;\")\n",
    " vowal= \"aeiouAEIOU\"\n",
    " if len(n)==1 and  n.isalpha():\n",
    "   if  n in vowal:\n",
    "    print(\"its vol\")\n",
    "   else:\n",
    "     print(\"Const\")\n",
    " else: \n",
    "  print(\"please enter Charcter \")\n",
    "except TypeError as e :\n",
    " print(\"only Alpha:\",e)\n"
   ]
  },
  {
   "cell_type": "code",
   "execution_count": null,
   "id": "439d02e8",
   "metadata": {},
   "outputs": [],
   "source": [
    "# Q19. Write a program to calculate the sum of digits of a number\n",
    "\n",
    "n = int(input(\"Enter Number\"))\n",
    "count= 0 \n",
    "while n>0:\n",
    "  n//=10\n",
    "  count+=1\n",
    "print(count)"
   ]
  },
  {
   "cell_type": "code",
   "execution_count": null,
   "id": "a6c430f8",
   "metadata": {},
   "outputs": [],
   "source": [
    "# Q20. Create a program to find the second largest number in a list.\n",
    "lst = [23,34,3,56,7,58,67,58,6,756,78,66,534]\n",
    "l1=lst[0]\n",
    "l2= lst[1]\n",
    "if l1>l2:\n",
    "  l1,l2= l2,l1\n",
    "for i in lst[2:]:\n",
    "  if i > l1:\n",
    "    l2= l1\n",
    "    l1=i \n",
    "  elif i>l2 and i !=l1:\n",
    "    l2 = i \n",
    "print( \"leargest :\",l1)\n",
    "print(\"Second Leargest :\",l2)\n",
    "\n",
    "\n",
    "\n"
   ]
  },
  {
   "cell_type": "code",
   "execution_count": null,
   "id": "69799d73",
   "metadata": {},
   "outputs": [],
   "source": [
    "# Q21. Write a program to count the number of digits in an integer.\n",
    "try: \n",
    "  num = int(input(\"Enter a Number.\"))\n",
    "  n = num \n",
    "  count= 0 \n",
    "  if n ==0:\n",
    "   count= 1\n",
    "  else: \n",
    "     while n>0:\n",
    "       n //=10\n",
    "       count+=1\n",
    "  print(\"Total Count of chracter:\",count)\n",
    "except Exception as e:\n",
    "  print(\"only integer value enter : \",e)\n"
   ]
  },
  {
   "cell_type": "code",
   "execution_count": 36,
   "id": "1dfbfb88",
   "metadata": {},
   "outputs": [
    {
     "name": "stdout",
     "output_type": "stream",
     "text": [
      "1 is Aemstrong\n",
      "2 is Aemstrong\n",
      "3 is Aemstrong\n",
      "4 is Aemstrong\n",
      "5 is Aemstrong\n",
      "6 is Aemstrong\n",
      "7 is Aemstrong\n",
      "8 is Aemstrong\n",
      "9 is Aemstrong\n",
      "153 is Aemstrong\n",
      "370 is Aemstrong\n",
      "371 is Aemstrong\n",
      "407 is Aemstrong\n"
     ]
    }
   ],
   "source": [
    "# Q22. Create a program to print all Armstrong numbers between 1 to 1000\n",
    "for num in range(1,1001):\n",
    "  n = num \n",
    "  res= 0\n",
    "  power = len(str(num))\n",
    "  while n>0:\n",
    "    id = n %10\n",
    "    res += id**power \n",
    "    n //=10\n",
    "  if res==num:\n",
    "     print(num,\"is Aemstrong\" )\n",
    "\n",
    "\n",
    "\n",
    " \n",
    "\n"
   ]
  },
  {
   "cell_type": "code",
   "execution_count": null,
   "id": "ddbc2ad0",
   "metadata": {},
   "outputs": [],
   "source": [
    "# Q23. Write a Python program to print a pattern of stars in a triangle.\n",
    "n = 5 \n",
    "for i in range(n,0,-1):\n",
    "  for j in range(i):\n",
    "    print(\"*\",end=\" \")\n",
    "\n",
    "  print()\n"
   ]
  },
  {
   "cell_type": "code",
   "execution_count": 1,
   "id": "c2e08396",
   "metadata": {},
   "outputs": [
    {
     "ename": "ValueError",
     "evalue": "invalid literal for int() with base 10: ''",
     "output_type": "error",
     "traceback": [
      "\u001b[31m---------------------------------------------------------------------------\u001b[39m",
      "\u001b[31mValueError\u001b[39m                                Traceback (most recent call last)",
      "\u001b[36mCell\u001b[39m\u001b[36m \u001b[39m\u001b[32mIn[1]\u001b[39m\u001b[32m, line 2\u001b[39m\n\u001b[32m      1\u001b[39m \u001b[38;5;66;03m# Q24. Create a calculator app using if-else.i\u001b[39;00m\n\u001b[32m----> \u001b[39m\u001b[32m2\u001b[39m num1= \u001b[38;5;28;43mint\u001b[39;49m\u001b[43m(\u001b[49m\u001b[38;5;28;43minput\u001b[39;49m\u001b[43m(\u001b[49m\u001b[33;43m\"\u001b[39;49m\u001b[33;43men 1 \u001b[39;49m\u001b[33;43m\"\u001b[39;49m\u001b[43m)\u001b[49m\u001b[43m)\u001b[49m\n\u001b[32m      4\u001b[39m num2= \u001b[38;5;28mint\u001b[39m(\u001b[38;5;28minput\u001b[39m(\u001b[33m\"\u001b[39m\u001b[33men 2 \u001b[39m\u001b[33m\"\u001b[39m))\n\u001b[32m      5\u001b[39m \u001b[38;5;28mprint\u001b[39m(\u001b[33m\"\u001b[39m\u001b[33ment opreation + - * /:\u001b[39m\u001b[33m\"\u001b[39m)\n",
      "\u001b[31mValueError\u001b[39m: invalid literal for int() with base 10: ''"
     ]
    }
   ],
   "source": [
    "# Q24. Create a calculator app using if-else.i\n",
    "num1= int(input(\"en 1 \"))\n",
    "\n",
    "num2= int(input(\"en 2 \"))\n",
    "print(\"ent opreation + - * /:\")\n",
    "op = input(\"Enter Opreator: \")\n",
    "if op=='+':\n",
    "  print(\"Result\",num1+num2)\n",
    "elif op=='-':\n",
    "  print(\"Result\",num1-num2)\n",
    "elif op=='*':\n",
    "  print(\"Result\",num1*num2)\n",
    "elif op=='/':\n",
    "  print(\"Result\",num1/num2)\n",
    "\n",
    "\n",
    "\n",
    "\n"
   ]
  },
  {
   "cell_type": "code",
   "execution_count": null,
   "id": "9e20f21c",
   "metadata": {},
   "outputs": [],
   "source": [
    "# Q25. Write a program to display the ASCII value of a character.\n",
    "a=input(\"Enter Character \")\n",
    "print(ord(a))"
   ]
  },
  {
   "cell_type": "code",
   "execution_count": null,
   "id": "bc5c07bf",
   "metadata": {},
   "outputs": [],
   "source": [
    "# Q26. Convert a decimal number to binary using loops..\n",
    "a = int(input(\"Enter a Decimal Number\"))\n",
    "print(bin(a))\n"
   ]
  },
  {
   "cell_type": "code",
   "execution_count": null,
   "id": "c8f677a3",
   "metadata": {},
   "outputs": [],
   "source": [
    "# Q27. Create a program to find the square root of a number\n",
    "a = int(input(\"Enter a Number.\"))\n",
    "print(float(a//2))"
   ]
  },
  {
   "cell_type": "code",
   "execution_count": null,
   "id": "fb212795",
   "metadata": {},
   "outputs": [],
   "source": [
    "# Q28. Write a program to find the sum of all even numbers in a list.\n",
    "\n",
    "lst = [3,4,6,3,5,6,3]\n",
    "total = 0 \n",
    "for i in lst:\n",
    "  total+=i\n",
    "print(\"Sum of List :\" ,total)\n",
    "\n",
    "\n",
    "\n",
    "\n"
   ]
  },
  {
   "cell_type": "code",
   "execution_count": null,
   "id": "fd10779b",
   "metadata": {},
   "outputs": [],
   "source": [
    "\n",
    "# Q29. Create a program to check whether a number is prime or not\n",
    "\n",
    "n= int(input(\"Eaopdk\"))\n",
    "for i in range(2,n):\n",
    "\n",
    "    if n %i==0:\n",
    "      print(\"false\")\n",
    "      break\n",
    "    else:  \n",
    "      print(True)\n",
    "      break\n"
   ]
  },
  {
   "cell_type": "code",
   "execution_count": null,
   "id": "ec005dc2",
   "metadata": {},
   "outputs": [],
   "source": [
    "# Q30. Write a program to display the cube of the number up to an integer\n",
    "a   = int(input(\"Enter Number..\"))\n",
    "for i in range(1,a+1):\n",
    "   print(f\"The Cube of {a} is {a**3}\")\n",
    "   break\n",
    "\n"
   ]
  },
  {
   "cell_type": "code",
   "execution_count": null,
   "id": "1c501fd1",
   "metadata": {},
   "outputs": [
    {
     "name": "stdout",
     "output_type": "stream",
     "text": [
      "{1: 'ap', 2: 'dp', 3: 'cp', 4: 'kp', 5: 'mp', 6: 'lp'}\n"
     ]
    }
   ],
   "source": [
    "# marged 2 dictonaris\n",
    "ap ={\n",
    "  1:\"ap\",\n",
    "  2:\"dp\",\n",
    "  3:\"cp\",\n",
    "}\n",
    "ak ={\n",
    "  4:\"kp\",\n",
    "  5:\"mp\",\n",
    "  6:\"lp\",\n",
    "}\n",
    "m = ap | ak\n",
    "print(m )\n"
   ]
  },
  {
   "cell_type": "code",
   "execution_count": 6,
   "id": "71186124",
   "metadata": {},
   "outputs": [
    {
     "name": "stdout",
     "output_type": "stream",
     "text": [
      "(1, 3, 5, 6, 4, 6, 7, 8)\n"
     ]
    }
   ],
   "source": [
    "ap = (1,3,5,6)\n",
    "ak = (4,6,7,8)\n",
    "m = ap +ak\n",
    "print(m)"
   ]
  },
  {
   "cell_type": "code",
   "execution_count": 10,
   "id": "03b295d8",
   "metadata": {},
   "outputs": [
    {
     "name": "stdout",
     "output_type": "stream",
     "text": [
      "{1, 2, 4, 5, 6, 7, 8, 9}\n"
     ]
    }
   ],
   "source": [
    "ap = {2,4,5,6,7}\n",
    "ak= {4,5,8,9,1}\n",
    "m = ap|ak\n",
    "print(m)\n"
   ]
  },
  {
   "cell_type": "code",
   "execution_count": 13,
   "id": "1271772c",
   "metadata": {},
   "outputs": [
    {
     "name": "stdout",
     "output_type": "stream",
     "text": [
      "[1, 2, 4, 5, 6, 11, 24, 46, 58, 63]\n"
     ]
    }
   ],
   "source": [
    "ap= [1,2,4,5,6]\n",
    "ak= [11,24,46,58,63]\n",
    "m = ap+ak\n",
    "print(m)"
   ]
  },
  {
   "cell_type": "code",
   "execution_count": 16,
   "id": "cd6dd243",
   "metadata": {},
   "outputs": [
    {
     "name": "stdout",
     "output_type": "stream",
     "text": [
      "even\n"
     ]
    }
   ],
   "source": [
    "n = 36\n",
    "if n %2 == 0 :\n",
    "  print(\"even\")\n",
    "else:\n",
    "  print('not even ')"
   ]
  },
  {
   "cell_type": "code",
   "execution_count": 28,
   "id": "ecfd6f8e",
   "metadata": {},
   "outputs": [
    {
     "name": "stdout",
     "output_type": "stream",
     "text": [
      "94\n"
     ]
    }
   ],
   "source": [
    "lst = [4,6,3,6,45,3,4,23]\n",
    "count=0 \n",
    "for i in lst:\n",
    "  count+=i\n",
    "print(count)  "
   ]
  },
  {
   "cell_type": "code",
   "execution_count": 50,
   "id": "4c7ca677",
   "metadata": {},
   "outputs": [
    {
     "name": "stdout",
     "output_type": "stream",
     "text": [
      "45\n"
     ]
    }
   ],
   "source": [
    "lst= [2,4,34,5,3,45,5,35]\n",
    "mini = lst[0]\n",
    "maxi = lst[0]\n",
    "for i in lst:\n",
    "  if i >maxi :\n",
    "    maxi = i\n",
    "  if mini>i:\n",
    "    mini = i\n",
    "print(maxi)"
   ]
  },
  {
   "cell_type": "code",
   "execution_count": 2,
   "id": "e83dffb8",
   "metadata": {},
   "outputs": [
    {
     "name": "stdout",
     "output_type": "stream",
     "text": [
      "[2, 4, 34, 53, 46, 23]\n"
     ]
    }
   ],
   "source": [
    "lst = [2,4,34,53,46,23,23,2,4]\n",
    "uni = []\n",
    "for num in lst:\n",
    "  if num not in uni:\n",
    "    uni.append(num)\n",
    "print(uni)"
   ]
  },
  {
   "cell_type": "code",
   "execution_count": null,
   "id": "54afcb31",
   "metadata": {},
   "outputs": [],
   "source": []
  },
  {
   "cell_type": "code",
   "execution_count": 5,
   "id": "dbb7d348",
   "metadata": {},
   "outputs": [
    {
     "data": {
      "text/plain": [
       "'olleh '"
      ]
     },
     "execution_count": 5,
     "metadata": {},
     "output_type": "execute_result"
    }
   ],
   "source": [
    "def ap(n):\n",
    "  rev = \" \"\n",
    "  for i in n:\n",
    "    rev= i+rev\n",
    "  return rev\n",
    "ap(\"hello\")"
   ]
  },
  {
   "cell_type": "code",
   "execution_count": 13,
   "id": "b1bef24f",
   "metadata": {},
   "outputs": [
    {
     "name": "stdout",
     "output_type": "stream",
     "text": [
      "(1, 3, 5, 6, 7, 8) [1, 3, 5, 6, 7, 8]\n"
     ]
    }
   ],
   "source": [
    "a =[1,3,5,6,7,8]\n",
    "b = tuple(a)\n",
    "print(b,a)"
   ]
  },
  {
   "cell_type": "code",
   "execution_count": 16,
   "id": "aa6c1863",
   "metadata": {},
   "outputs": [
    {
     "name": "stdout",
     "output_type": "stream",
     "text": [
      "{1: 'ayuhs', 2: 'krish', 3: 'shree', 4: 'ay', 5: 'sh', 6: 'ree'}\n"
     ]
    }
   ],
   "source": [
    "a = {1 :\"ayuhs\",2:\"krish\",3:\"shree\"}\n",
    "b = {4:\"ay\",  5:\"sh\",6:\"ree\"}\n",
    "c = a|b\n",
    "print(c)"
   ]
  },
  {
   "cell_type": "code",
   "execution_count": 20,
   "id": "e0a7f129",
   "metadata": {},
   "outputs": [
    {
     "name": "stdout",
     "output_type": "stream",
     "text": [
      "{1: 1, 2: 4, 3: 9, 4: 16, 5: 25, 6: 36, 7: 49, 8: 64, 9: 81, 10: 100, 11: 121, 12: 144, 13: 169, 14: 196, 15: 225, 16: 256, 17: 289, 18: 324, 19: 361}\n"
     ]
    }
   ],
   "source": [
    "sq = {}\n",
    "for i in range(1,20):\n",
    "  sq[i]=i*i\n",
    "print(sq)"
   ]
  },
  {
   "cell_type": "code",
   "execution_count": 24,
   "id": "c1bf94b4",
   "metadata": {},
   "outputs": [
    {
     "name": "stdout",
     "output_type": "stream",
     "text": [
      "[4, 5, 5, 6, 14, 43, 45, 46, 53, 56, 67, 434]\n"
     ]
    }
   ],
   "source": [
    "lst=[14,43,53,6,4,5,67,56,434,46,5,45]\n",
    "l= sorted(lst)\n",
    "print(l)"
   ]
  },
  {
   "cell_type": "code",
   "execution_count": 31,
   "id": "b98c79ca",
   "metadata": {},
   "outputs": [
    {
     "name": "stdout",
     "output_type": "stream",
     "text": [
      "right ayuhs\n"
     ]
    }
   ],
   "source": [
    "a = {1 :\"ayuhs\",2:\"krish\",3:\"shree\"}\n",
    "key= 1\n",
    "if key in a:\n",
    "  print(\"right\",a[1])\n",
    "else:\n",
    "  print(\"else\")"
   ]
  },
  {
   "cell_type": "code",
   "execution_count": 37,
   "id": "dab3c4b3",
   "metadata": {},
   "outputs": [
    {
     "name": "stdout",
     "output_type": "stream",
     "text": [
      "[2, 3, 5]\n"
     ]
    }
   ],
   "source": [
    "def commen(l1,l2):\n",
    "  return list(set(l1)&set(l2))\n",
    "l1=[2,3,4,5,2,5]\n",
    "l2=[2,3,9,5,6,5]\n",
    "print(commen(l1,l2))"
   ]
  },
  {
   "cell_type": "code",
   "execution_count": 49,
   "id": "0a58c526",
   "metadata": {},
   "outputs": [
    {
     "data": {
      "text/plain": [
       "120"
      ]
     },
     "execution_count": 49,
     "metadata": {},
     "output_type": "execute_result"
    }
   ],
   "source": [
    "def fect(n):\n",
    "  feq= 1\n",
    "  for i in range(1,n+1):\n",
    "    if i>0:\n",
    "      feq*=i\n",
    "  return feq\n",
    "fect(5)\n",
    "   "
   ]
  },
  {
   "cell_type": "code",
   "execution_count": null,
   "id": "2f087f17",
   "metadata": {},
   "outputs": [],
   "source": []
  },
  {
   "cell_type": "code",
   "execution_count": 3,
   "id": "22794ca8",
   "metadata": {},
   "outputs": [
    {
     "data": {
      "text/plain": [
       "678"
      ]
     },
     "execution_count": 3,
     "metadata": {},
     "output_type": "execute_result"
    }
   ],
   "source": [
    "#write a program to find the largest and smallest element in a list \n",
    "a = [32,5,56,678,23,23,4,342,53]\n",
    "max(a)"
   ]
  },
  {
   "cell_type": "code",
   "execution_count": 142,
   "id": "d35d170b",
   "metadata": {},
   "outputs": [
    {
     "name": "stdout",
     "output_type": "stream",
     "text": [
      "lower vowel 1\n",
      "Upper vowel 0\n"
     ]
    }
   ],
   "source": [
    "# write a display vowal in sting upper case , lower case seprately \n",
    "# given num so makeing message\n",
    "\n",
    "a = input('Enter') \n",
    "if not a.isalpha():\n",
    "  print(\"not acceptable\") \n",
    "else: \n",
    "  vol = \"aeiou\"\n",
    "  b=\"AEIOU\"\n",
    "  count = 0\n",
    "  count1 = 0\n",
    "  for i in a:\n",
    "    if i in vol:\n",
    "     count +=1\n",
    "    elif i in b : \n",
    "     count1+=1\n",
    "  print(\"lower vowel\" , count),\n",
    "  print(\"Upper vowel\" ,count1)\n"
   ]
  },
  {
   "cell_type": "code",
   "execution_count": 49,
   "id": "f21f3607",
   "metadata": {},
   "outputs": [
    {
     "name": "stdout",
     "output_type": "stream",
     "text": [
      "   id Name Subject_id\n",
      "0   1   Ap       sub1\n",
      "1   2   RT       sub2\n",
      "2   3   Ak       sub3\n",
      "3   4   KT       sub6\n",
      "4   5   ST       sub5\n",
      "   id   Name Subject_id\n",
      "0   1     cc      sub01\n",
      "1   2    RcT      sub99\n",
      "2   3   Aadk       sub4\n",
      "3   4  KafdT       sub7\n",
      "4   5  SadfT       sub9\n",
      "mathods \n",
      "   id   Name Subject_id\n",
      "0   1     Ap       sub1\n",
      "1   2     RT       sub2\n",
      "2   3     Ak       sub3\n",
      "3   4     KT       sub6\n",
      "4   5     ST       sub5\n",
      "0   1     cc      sub01\n",
      "1   2    RcT      sub99\n",
      "2   3   Aadk       sub4\n",
      "3   4  KafdT       sub7\n",
      "4   5  SadfT       sub9\n"
     ]
    }
   ],
   "source": [
    "import  numpy as np \n",
    "import  pandas as pd\n",
    "left = pd.DataFrame({\n",
    "  'id':[1,2,3,4,5],\n",
    "  'Name': [\"Ap\",\"RT\",\"Ak\",\"KT\",\"ST\"],\n",
    "  'Subject_id':['sub1','sub2','sub3','sub6','sub5'\n",
    "]\n",
    "})\n",
    "Right = pd.DataFrame({\n",
    "  'id':[1,2,3,4,5],\n",
    "  'Name': [\"cc\",\"RcT\",\"Aadk\",\"KafdT\",\"SadfT\"],\n",
    "  'Subject_id':['sub01','sub99','sub4','sub7','sub9'\n",
    "]\n",
    "})\n",
    "print(left)\n",
    "print(Right )\n",
    "# print(pd.merge(left,Right,on='Subject_id',how='outer'))\n",
    "# print(pd.merge(left,Right, how='outer',on='Subject_id'))\n",
    "print(\"mathods \")\n",
    "index = ([1,2,3,4,5,6])\n",
    "print(pd.concat([left,Right]))\n"
   ]
  },
  {
   "cell_type": "code",
   "execution_count": 61,
   "id": "d83999fa",
   "metadata": {},
   "outputs": [
    {
     "name": "stdout",
     "output_type": "stream",
     "text": [
      "        Name    id\n",
      "0      aysuh  7351\n",
      "1     vencky  4562\n",
      "2     shekar  3453\n",
      "3  madhurani  4343\n",
      "        Name    id\n",
      "0      aysuh  7351\n",
      "1     vencky  4562\n",
      "2     shekar  3453\n",
      "3  madhurani  4343\n",
      "0       veru  7351\n",
      "1       sonu  4562\n",
      "2      kapil  3453\n",
      "3  madhurani  4343\n"
     ]
    }
   ],
   "source": [
    "ap = pd.DataFrame({\n",
    "  'Name':[\"aysuh\",\"vencky\",\"shekar\",\"madhurani\"],\n",
    "  \"id\":[7351,4562,3453,4343]\n",
    "})\n",
    "pp = pd.DataFrame({\n",
    "  'Name':[\"veru\",\"sonu\",\"\"\n",
    "  \"kapil\",\"madhurani\"],\n",
    "  \"id\":[7351,4562,3453,4343]\n",
    "})\n",
    "print(ap)\n",
    "print(pd.concat([ap,pp]))"
   ]
  },
  {
   "cell_type": "code",
   "execution_count": 1,
   "id": "c557309a",
   "metadata": {},
   "outputs": [
    {
     "name": "stdout",
     "output_type": "stream",
     "text": [
      "{1: 'Ayush', 2: 'Omrep', 3: 'Somix', 4: 'kinu', 6: 'Ayush', 5: 'Omrep', 7: 'Somix', 8: 'kinu'}\n"
     ]
    }
   ],
   "source": [
    "dic1={1:\"Ayush\",2:\"Omrep\",3:\"Somix\", 4:\"kinu\"}\n",
    "dic2={5:\"Ayush\",6:\"Omrep\",7:\"Somix\", 8:\"kinu\"}\n",
    "marged = dic1 | dic2\n",
    "print(marged)"
   ]
  },
  {
   "cell_type": "code",
   "execution_count": 19,
   "id": "8d24e835",
   "metadata": {},
   "outputs": [
    {
     "name": "stdout",
     "output_type": "stream",
     "text": [
      "0\n",
      "1\n",
      "1\n",
      "2\n",
      "3\n"
     ]
    },
    {
     "data": {
      "text/plain": [
       "5"
      ]
     },
     "execution_count": 19,
     "metadata": {},
     "output_type": "execute_result"
    }
   ],
   "source": [
    "def fab(n):\n",
    "  a= 0 \n",
    "  b = 1\n",
    "  for i in range(n):\n",
    "    print(a)\n",
    "    a,b= b,a+b\n",
    "  return a\n",
    "fab(5)"
   ]
  },
  {
   "cell_type": "code",
   "execution_count": 31,
   "id": "9ae8b24a",
   "metadata": {},
   "outputs": [
    {
     "name": "stdout",
     "output_type": "stream",
     "text": [
      "* * * * * * \n",
      "* * * * * \n",
      "* * * * \n",
      "* * * \n",
      "* * \n",
      "* \n"
     ]
    }
   ],
   "source": [
    "n = 6\n",
    "for i in range(n,0,-1):\n",
    " print(\"* \"*i)"
   ]
  },
  {
   "cell_type": "code",
   "execution_count": 39,
   "id": "dfadf65a",
   "metadata": {},
   "outputs": [
    {
     "name": "stdout",
     "output_type": "stream",
     "text": [
      "Hello World!\n",
      "12\n"
     ]
    }
   ],
   "source": [
    "with open(\"my.txt\",\"w\") as mf:\n",
    "  mf.write(\"\"\"Hello World!\"\"\")\n",
    "with open(\"my.txt\",'r') as f: \n",
    "  lines = f.readline()\n",
    "  print(lines)\n",
    "  print(len(lines))"
   ]
  },
  {
   "cell_type": "code",
   "execution_count": 54,
   "id": "543d16b9",
   "metadata": {},
   "outputs": [
    {
     "name": "stdout",
     "output_type": "stream",
     "text": [
      "teri~nazro~ka~sitam\n"
     ]
    }
   ],
   "source": [
    "a = \"teri nazro ka sitam\"\n",
    "\n",
    "\n",
    "p = a.replace(\" \",\"_#hyphen\")\n",
    "\n",
    "print(p)"
   ]
  },
  {
   "cell_type": "code",
   "execution_count": 66,
   "id": "c3b48d95",
   "metadata": {},
   "outputs": [
    {
     "name": "stdout",
     "output_type": "stream",
     "text": [
      "atm 1\n",
      "atm 2\n",
      "atm 3\n",
      "atm 4\n",
      "atm 5\n",
      "atm 6\n",
      "atm 7\n",
      "atm 8\n",
      "atm 9\n",
      "atm 153\n",
      "atm 370\n",
      "atm 371\n",
      "atm 407\n"
     ]
    }
   ],
   "source": [
    "for num in range(1,501):\n",
    "  n = num \n",
    "  res = 0 \n",
    "  power = len(str(num))\n",
    "  while n > 0 :\n",
    "    id = n %10 \n",
    "    res +=id**power\n",
    "    n //=10\n",
    " \n",
    "  if num  == res:\n",
    "     print(\"atm\",num)\n",
    "\n",
    "    "
   ]
  },
  {
   "cell_type": "code",
   "execution_count": 86,
   "id": "f10c1b7c",
   "metadata": {},
   "outputs": [
    {
     "name": "stdout",
     "output_type": "stream",
     "text": [
      "<__main__.kittu object at 0x00000241A2D423C0> 8\n",
      "2\n",
      "3\n",
      "5\n",
      "7\n",
      "11\n",
      "13\n",
      "17\n",
      "19\n",
      "23\n",
      "29\n",
      "31\n",
      "37\n",
      "41\n",
      "43\n",
      "47\n",
      "53\n",
      "59\n",
      "61\n",
      "67\n",
      "71\n",
      "73\n",
      "79\n",
      "83\n",
      "89\n"
     ]
    }
   ],
   "source": [
    "s =1 \n",
    "e= 90\n",
    "print(a, b)\n",
    "for n in range(s,e+1):\n",
    "  if n > 1:\n",
    "    for q in range(2,n):\n",
    "      if n % q == 0:\n",
    "       break\n",
    "    else:\n",
    "      print(n)"
   ]
  },
  {
   "cell_type": "markdown",
   "id": "284006fc",
   "metadata": {},
   "source": [
    "Python Tech Round\n"
   ]
  },
  {
   "cell_type": "code",
   "execution_count": 162,
   "id": "99537f4d",
   "metadata": {},
   "outputs": [
    {
     "name": "stdout",
     "output_type": "stream",
     "text": [
      "not pilim\n",
      "Reverse String is:  !retsaMolleh\n"
     ]
    }
   ],
   "source": [
    "#  Reverse a String / pilindrome \n",
    "a = \"helloMaster!\"\n",
    "rev = \"\"\n",
    "for i in range(len(a)):\n",
    "  rev  =  a[i]+rev\n",
    "if rev == a:\n",
    "  print(\"Pilindrome\",rev)\n",
    "\n",
    "else:\n",
    "  print(\"not pilim\")\n",
    "  print(\"Reverse String is: \",rev)\n",
    "  \n"
   ]
  },
  {
   "cell_type": "code",
   "execution_count": 127,
   "id": "d71d97db",
   "metadata": {},
   "outputs": [
    {
     "data": {
      "text/plain": [
       "58"
      ]
     },
     "execution_count": 127,
     "metadata": {},
     "output_type": "execute_result"
    }
   ],
   "source": [
    "a = [2,4,58,9,0]\n",
    "max(a)"
   ]
  },
  {
   "cell_type": "code",
   "execution_count": 131,
   "id": "9c0cbb7b",
   "metadata": {},
   "outputs": [
    {
     "name": "stdout",
     "output_type": "stream",
     "text": [
      "Total Vowel is: 8\n",
      "Total Consonents is: 10\n"
     ]
    }
   ],
   "source": [
    "#1.  Count Vowels and Consonants\n",
    "# 2. Count Vowels and Consonants lower seprate ,upper seprate num, not allowdnN \n",
    "\n",
    "n = \"BaseExceptionGroup\"\n",
    "vol = \"AEIOUaeiou\"\n",
    "v_count= 0\n",
    "c_count= 0\n",
    "for i in n:\n",
    "  if i in vol:\n",
    "    v_count+=1\n",
    "  else:\n",
    "    c_count+=1\n",
    "print(\"Total Vowel is:\", v_count)\n",
    "print(\"Total Consonents is:\", c_count)\n",
    "\n"
   ]
  },
  {
   "cell_type": "code",
   "execution_count": null,
   "id": "bce3c401",
   "metadata": {},
   "outputs": [
    {
     "name": "stdout",
     "output_type": "stream",
     "text": [
      "Total Vowel is: 2\n",
      "Total Consonents is: 3\n"
     ]
    }
   ],
   "source": [
    "# write a script and find vowel in string vowel and contonent seprately \n",
    "# num not allowed\n",
    "\n",
    "n = input(\"ENTER\")\n",
    "if not n.isalpha():\n",
    "  print(\"Int is not accecptable\")\n",
    "else:\n",
    "  vol = \"AEIOUaeiou\"\n",
    "  v_count= 0\n",
    "  c_count= 0 \n",
    "  for i in n:\n",
    "    if i in vol:\n",
    "      v_count+=1\n",
    "    else:\n",
    "      c_count+=1\n",
    "  print(\"Total Vowel is:\", v_count)\n",
    "  print(\"Total Consonents is:\", c_count)"
   ]
  },
  {
   "cell_type": "code",
   "execution_count": 151,
   "id": "0519ec42",
   "metadata": {},
   "outputs": [
    {
     "name": "stdout",
     "output_type": "stream",
     "text": [
      "5 6\n"
     ]
    }
   ],
   "source": [
    "x=6\n",
    "y=5\n",
    "c=0\n",
    "c=y\n",
    "y=x\n",
    "x=c\n",
    "print(x,y)"
   ]
  },
  {
   "cell_type": "code",
   "execution_count": 156,
   "id": "4b222295",
   "metadata": {},
   "outputs": [
    {
     "name": "stdout",
     "output_type": "stream",
     "text": [
      "5 6\n"
     ]
    }
   ],
   "source": [
    "x=6\n",
    "y=5\n",
    "x,y = y,x\n",
    "print(x,y)\n"
   ]
  },
  {
   "cell_type": "code",
   "execution_count": 19,
   "id": "9ab171b4",
   "metadata": {},
   "outputs": [
    {
     "name": "stdout",
     "output_type": "stream",
     "text": [
      "0\n",
      "1\n",
      "3\n",
      "6\n",
      "10\n",
      "15\n",
      "21\n",
      "28\n",
      "36\n",
      "45\n",
      "55\n",
      "66\n"
     ]
    }
   ],
   "source": [
    "a = 11\n",
    "res = 0 \n",
    "for i in range(a+1):\n",
    "  if i > 0 :\n",
    "    res+= i\n",
    "  print(res)\n"
   ]
  },
  {
   "cell_type": "code",
   "execution_count": null,
   "id": "a841e052",
   "metadata": {},
   "outputs": [],
   "source": [
    "# given number\n",
    "a = int(input(\"Enter Digits \"))\n",
    "res = 0 \n",
    "while a>0:\n",
    "  id= a %10\n",
    "  res+=id\n",
    "  a //=10\n",
    "print(res)"
   ]
  },
  {
   "cell_type": "code",
   "execution_count": null,
   "id": "42603b09",
   "metadata": {},
   "outputs": [],
   "source": [
    "# check prime\n",
    "a = int(input(\"Enter\"))\n",
    "for i in range(2,a+1):\n",
    "  if a%i==0:\n",
    "    print(\"This Number is not Prime \") \n",
    "    break\n",
    "  else:\n",
    "    print(\"This Number is  Prime \") \n",
    "    break\n",
    "  \n"
   ]
  },
  {
   "cell_type": "code",
   "execution_count": 7,
   "id": "0ed9a55f",
   "metadata": {},
   "outputs": [
    {
     "name": "stdout",
     "output_type": "stream",
     "text": [
      " Print Even : auhady\n",
      " Odd Even : yspne\n"
     ]
    }
   ],
   "source": [
    "# write a script find even and odd string word (spaces not count )\n",
    "str= input(\"Enter\")\n",
    "no_space= str.replace(\" \",\"\")\n",
    "even= \"\"\n",
    "odd = \"\" \n",
    "for i in range(len(no_space)):\n",
    "  if i%2==0:\n",
    "    even+=no_space[i]\n",
    "  else:\n",
    "    odd+=no_space[i]\n",
    "print(\" Print Even :\",even)\n",
    "print(\" Odd Even :\",odd)\n"
   ]
  },
  {
   "cell_type": "code",
   "execution_count": 32,
   "id": "c1fbae83",
   "metadata": {},
   "outputs": [
    {
     "name": "stdout",
     "output_type": "stream",
     "text": [
      "5\n"
     ]
    }
   ],
   "source": [
    "# 25. Binary Search Implementation & Bubble Sort Implementation\n",
    "def Bin_serch(arr,target):\n",
    "  left , right = 0 ,len(arr)-1\n",
    "  while left <= right:\n",
    "    mid= (left +right) //2 # mid index\n",
    "    if arr[mid]==target:\n",
    "      return mid\n",
    "    elif arr[mid]<target:\n",
    "      left =mid+1\n",
    "    else: \n",
    "       right =mid-1\n",
    "  return -1\n",
    "arr = [2,3,4,5,3,6,4,11,5,522,2]\n",
    "print(Bin_serch(arr,6))"
   ]
  },
  {
   "cell_type": "code",
   "execution_count": 60,
   "id": "059d371c",
   "metadata": {},
   "outputs": [
    {
     "name": "stdout",
     "output_type": "stream",
     "text": [
      "[1, 3, 4, 5, 23, 35, 2]\n"
     ]
    }
   ],
   "source": [
    "#  Remove Duplicates from a List\n",
    "a = [1,3,4,3,5,4,1,3,3,23,4,35,2,2,1]\n",
    "uni = set()\n",
    "res =[]\n",
    "for i in a:\n",
    "  if i not in uni:\n",
    "    res.append(i)\n",
    "    uni.add(i)\n",
    "print(res)"
   ]
  },
  {
   "cell_type": "code",
   "execution_count": 69,
   "id": "51672f4c",
   "metadata": {},
   "outputs": [
    {
     "name": "stdout",
     "output_type": "stream",
     "text": [
      "11 14\n",
      "swap 14 11\n",
      "9 5\n",
      "swap 5 9\n"
     ]
    }
   ],
   "source": [
    "# Swap Two Numbers\n",
    "a =  11 \n",
    "b =14\n",
    "print(a,b)\n",
    "c= 0 \n",
    "c= b\n",
    "b = a \n",
    "a = c\n",
    "print(\"swap\" ,a,b) # mathod 1 \n",
    "n  = 9 \n",
    "i = 5\n",
    "print(n,i)\n",
    "n , i = i,n\n",
    "print(\"swap\",n,i) # mathod 2\n"
   ]
  },
  {
   "cell_type": "code",
   "execution_count": null,
   "id": "81001a97",
   "metadata": {},
   "outputs": [
    {
     "name": "stdout",
     "output_type": "stream",
     "text": [
      "Strong\n"
     ]
    }
   ],
   "source": []
  },
  {
   "cell_type": "code",
   "execution_count": 108,
   "id": "4c19b5ef",
   "metadata": {},
   "outputs": [
    {
     "ename": "ValueError",
     "evalue": "invalid literal for int() with base 10: ''",
     "output_type": "error",
     "traceback": [
      "\u001b[31m---------------------------------------------------------------------------\u001b[39m",
      "\u001b[31mValueError\u001b[39m                                Traceback (most recent call last)",
      "\u001b[36mCell\u001b[39m\u001b[36m \u001b[39m\u001b[32mIn[108]\u001b[39m\u001b[32m, line 3\u001b[39m\n\u001b[32m      1\u001b[39m \u001b[38;5;66;03m# Strong number \u001b[39;00m\n\u001b[32m      2\u001b[39m \u001b[38;5;66;03m# // given the num and find factorial and add  if your fact sum is == given number is called strong number.\u001b[39;00m\n\u001b[32m----> \u001b[39m\u001b[32m3\u001b[39m p = \u001b[38;5;28;43mint\u001b[39;49m\u001b[43m(\u001b[49m\u001b[38;5;28;43minput\u001b[39;49m\u001b[43m(\u001b[49m\u001b[33;43m\"\u001b[39;49m\u001b[33;43mEnter a Number\u001b[39;49m\u001b[33;43m\"\u001b[39;49m\u001b[43m)\u001b[49m\u001b[43m)\u001b[49m\n\u001b[32m      4\u001b[39m a = p \n\u001b[32m      5\u001b[39m tot = \u001b[32m0\u001b[39m \n",
      "\u001b[31mValueError\u001b[39m: invalid literal for int() with base 10: ''"
     ]
    }
   ],
   "source": [
    "# Strong number \n",
    "# // given the num and find factorial and add  if your fact sum is == given number is called strong number.\n",
    "p = int(input(\"Enter a Number\"))\n",
    "a = p \n",
    "tot = 0 \n",
    "while a > 0:\n",
    "  fact= 1\n",
    "  y = a%10\n",
    "  for i in range(1,y+1):\n",
    "    fact*=i\n",
    "  tot+= fact\n",
    "  a = a//10\n",
    "if tot == p:\n",
    "  print(\"Strong Number\")\n",
    "else: \n",
    "  print(\"Not Strong Number\")\n",
    "\n",
    "\n"
   ]
  },
  {
   "cell_type": "code",
   "execution_count": 90,
   "id": "5943f291",
   "metadata": {},
   "outputs": [
    {
     "name": "stdout",
     "output_type": "stream",
     "text": [
      "120\n"
     ]
    }
   ],
   "source": [
    "n = int(input(\"asfda\"))\n",
    "sum = 1\n",
    "for i in range(1,n+1):\n",
    "  if n > 0:\n",
    "    sum*=i\n",
    "print(sum)"
   ]
  },
  {
   "cell_type": "code",
   "execution_count": null,
   "id": "e8d2aaf4",
   "metadata": {},
   "outputs": [
    {
     "ename": "TypeError",
     "evalue": "'str' object is not callable",
     "output_type": "error",
     "traceback": [
      "\u001b[31m---------------------------------------------------------------------------\u001b[39m",
      "\u001b[31mTypeError\u001b[39m                                 Traceback (most recent call last)",
      "\u001b[36mCell\u001b[39m\u001b[36m \u001b[39m\u001b[32mIn[123]\u001b[39m\u001b[32m, line 2\u001b[39m\n\u001b[32m      1\u001b[39m n =\u001b[32m424242424\u001b[39m\n\u001b[32m----> \u001b[39m\u001b[32m2\u001b[39m \u001b[38;5;28mstr\u001b[39m=\u001b[38;5;28;43mstr\u001b[39;49m\u001b[43m(\u001b[49m\u001b[43mn\u001b[49m\u001b[43m)\u001b[49m\n\u001b[32m      3\u001b[39m c = \u001b[32m0\u001b[39m \n\u001b[32m      4\u001b[39m \u001b[38;5;28;01mfor\u001b[39;00m i \u001b[38;5;129;01min\u001b[39;00m \u001b[38;5;28mstr\u001b[39m:\n",
      "\u001b[31mTypeError\u001b[39m: 'str' object is not callable"
     ]
    }
   ],
   "source": [
    "n =424242424\n",
    "\n",
    "c = 0 \n",
    "while n>0:\n",
    "    \n",
    "\n",
    "    c+=1\n",
    "\n",
    "print(c)\n"
   ]
  },
  {
   "cell_type": "code",
   "execution_count": 136,
   "id": "b316d759",
   "metadata": {},
   "outputs": [
    {
     "name": "stdout",
     "output_type": "stream",
     "text": [
      "Alternatively\n"
     ]
    }
   ],
   "source": [
    "# . Longest Word in a Sentence\n",
    "a= \"This approach correctly identifies the longest sentence based on its character length. Alternatively if you prefer not to use external libraries, you can split the paragraph by periods,\"\n",
    "p= a.split()\n",
    "v = max(p, key=len)\n",
    "print(v)"
   ]
  },
  {
   "cell_type": "code",
   "execution_count": null,
   "id": "e0ade65f",
   "metadata": {},
   "outputs": [
    {
     "name": "stdout",
     "output_type": "stream",
     "text": [
      "1\n",
      "3\n",
      "6\n",
      "10\n"
     ]
    }
   ],
   "source": [
    "# Sum of First N Natural Numbers\n",
    "num = int(input(\"Enter Number\"))\n",
    "sum = 0 \n",
    "for i in range(1,num):\n",
    "  if i > 0: \n",
    "    sum+=i\n",
    "  print(sum)"
   ]
  }
 ],
 "metadata": {
  "kernelspec": {
   "display_name": "base",
   "language": "python",
   "name": "python3"
  },
  "language_info": {
   "codemirror_mode": {
    "name": "ipython",
    "version": 3
   },
   "file_extension": ".py",
   "mimetype": "text/x-python",
   "name": "python",
   "nbconvert_exporter": "python",
   "pygments_lexer": "ipython3",
   "version": "3.13.5"
  }
 },
 "nbformat": 4,
 "nbformat_minor": 5
}
