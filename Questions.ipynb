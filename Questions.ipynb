{
 "cells": [
  {
   "cell_type": "markdown",
   "id": "5f8a4acb",
   "metadata": {},
   "source": [
    "Top 30 ImP Question Must be slove ,\n",
    "Variables, Data Types, Input/Output, Loops, Conditionals\n"
   ]
  },
  {
   "cell_type": "code",
   "execution_count": null,
   "id": "f31961f7",
   "metadata": {},
   "outputs": [],
   "source": [
    "# Q1. Write a Python program to swap two variables.\n",
    "a = 4 \n",
    "b = 7 \n",
    "c = a ,b  = b , a\n",
    "print(c)"
   ]
  },
  {
   "cell_type": "code",
   "execution_count": 13,
   "id": "ecab7763",
   "metadata": {},
   "outputs": [
    {
     "name": "stdout",
     "output_type": "stream",
     "text": [
      "\n"
     ]
    }
   ],
   "source": [
    "# Q2. Take user input and display it back to the user\n",
    "user_Input = input(\"Enter something..\")\n",
    "print(user_Input)"
   ]
  },
  {
   "cell_type": "code",
   "execution_count": 14,
   "id": "77a62fad",
   "metadata": {},
   "outputs": [
    {
     "ename": "ValueError",
     "evalue": "invalid literal for int() with base 10: ''",
     "output_type": "error",
     "traceback": [
      "\u001b[31m---------------------------------------------------------------------------\u001b[39m",
      "\u001b[31mValueError\u001b[39m                                Traceback (most recent call last)",
      "\u001b[36mCell\u001b[39m\u001b[36m \u001b[39m\u001b[32mIn[14]\u001b[39m\u001b[32m, line 2\u001b[39m\n\u001b[32m      1\u001b[39m \u001b[38;5;66;03m# Q3. Write a program to check if a number is even or odd.\u001b[39;00m\n\u001b[32m----> \u001b[39m\u001b[32m2\u001b[39m num = \u001b[38;5;28;43mint\u001b[39;49m\u001b[43m(\u001b[49m\u001b[38;5;28;43minput\u001b[39;49m\u001b[43m(\u001b[49m\u001b[33;43m\"\u001b[39;49m\u001b[33;43mEnter Number\u001b[39;49m\u001b[33;43m\"\u001b[39;49m\u001b[43m)\u001b[49m\u001b[43m)\u001b[49m\n\u001b[32m      3\u001b[39m \u001b[38;5;28;01mif\u001b[39;00m num % \u001b[32m2\u001b[39m ==\u001b[32m0\u001b[39m:\n\u001b[32m      4\u001b[39m   \u001b[38;5;28mprint\u001b[39m(\u001b[33m\"\u001b[39m\u001b[33mNumber is Even\u001b[39m\u001b[33m\"\u001b[39m)\n",
      "\u001b[31mValueError\u001b[39m: invalid literal for int() with base 10: ''"
     ]
    }
   ],
   "source": [
    "# Q3. Write a program to check if a number is even or odd.\n",
    "num = int(input(\"Enter Number\"))\n",
    "if num % 2 ==0:\n",
    "  print(\"Number is Even\")\n",
    "else:\n",
    "  print(\"Numver is Odd\")"
   ]
  },
  {
   "cell_type": "code",
   "execution_count": null,
   "id": "f4ec1004",
   "metadata": {},
   "outputs": [],
   "source": [
    "# Q4. Create a program that prints the multiplication table of a given number.\n",
    "num = int(input(\"Enter Number\"))\n",
    "for i in range(1,11):\n",
    "   print(f\"{num} x {i} = {num*i}\")"
   ]
  },
  {
   "cell_type": "code",
   "execution_count": null,
   "id": "c91ab4ed",
   "metadata": {},
   "outputs": [],
   "source": [
    "# Q5. Write a program to find the largest of three numbers.\n",
    "num1 =  int(input(\"Enter Number 1: \"))\n",
    "num2 =  int(input(\"Enter Number 2: \"))\n",
    "num3 =  int(input(\"Enter Number 3: \"))\n",
    "if (num1>=num2) or (num1>=num3):\n",
    "   largest= num1 \n",
    "elif (num2>=num1) or (num2>=num3):\n",
    "   largest= num2\n",
    "else:\n",
    "   largest = num3\n",
    "\n",
    "print(largest)\n",
    "   "
   ]
  },
  {
   "cell_type": "code",
   "execution_count": null,
   "id": "ee458701",
   "metadata": {},
   "outputs": [],
   "source": [
    "# Q6. Convert temperature from Celsius to Fahrenheit.\n",
    "# Input temperature in Fahrenheit\n",
    "fahrenheit = float(input(\"Enter temperature in Fahrenheit: \"))\n",
    "\n",
    "# Convert Fahrenheit to Celsius\n",
    "celsius = (fahrenheit - 32) * 5 / 9\n",
    "\n",
    "# Display the result\n",
    "print(f\"{fahrenheit}°F is equal to {celsius:.2f}°C\")\n",
    "# dabut\n"
   ]
  },
  {
   "cell_type": "code",
   "execution_count": null,
   "id": "4fcf7b10",
   "metadata": {},
   "outputs": [],
   "source": [
    "# Q7. Write a program to calculate the factorial of a number using a loop.\n",
    "N = int(input(\"Enter number..\"))\n",
    "sum = 1\n",
    "for i in range(2,N+1):\n",
    "  sum*=i\n",
    "print(sum)"
   ]
  },
  {
   "cell_type": "code",
   "execution_count": null,
   "id": "97b83ef2",
   "metadata": {},
   "outputs": [],
   "source": [
    "# Q8. Create a program to count the number of vowels in a string.\n",
    "val = input(\"Enter name\")\n",
    "vowal = \"AEIOUaeiou\"\n",
    "v_count=0\n",
    "c_count=0\n",
    "for i in val:\n",
    " if i in vowal:\n",
    "   v_count+=1\n",
    " else: \n",
    "   c_count+=1\n",
    "\n",
    "print(f\"The value of Vowel is {v_count} and Constant is {c_count}\")\n",
    "  \n"
   ]
  },
  {
   "cell_type": "code",
   "execution_count": null,
   "id": "84e240cf",
   "metadata": {},
   "outputs": [],
   "source": [
    "# Q9. Write a Python script to reverse a given string\n",
    "a = \"Ayush ayush\" \n",
    "\"\"\n",
    "rev= \"\"\n",
    "for i in a:\n",
    "  rev = i + rev\n",
    "print(rev)"
   ]
  },
  {
   "cell_type": "code",
   "execution_count": null,
   "id": "f69100f2",
   "metadata": {},
   "outputs": [],
   "source": [
    "# Q10. Check if a number is a palindrome.\n",
    "s = \"malylam\"\n",
    "if s==s[::-1]:\n",
    "  print(\"Pilimdrone\")\n",
    "else: \n",
    "  print(\"not one \")"
   ]
  },
  {
   "cell_type": "code",
   "execution_count": null,
   "id": "36abf133",
   "metadata": {},
   "outputs": [],
   "source": [
    "# Q11. Write a program to find the sum of first N natural numbers.\n",
    "\n",
    "num = int(input(\"Enter\"))\n",
    "sum = 0 \n",
    "for i in range(1,num+1):\n",
    "   sum +=i\n",
    "print(sum)\n",
    "  \n"
   ]
  },
  {
   "cell_type": "code",
   "execution_count": null,
   "id": "8afda074",
   "metadata": {},
   "outputs": [],
   "source": [
    "# Q12. Create a number guessing game.\n",
    "import random\n",
    "\n",
    "# 1. Secret number choose (1-100)\n",
    "secret = random.randint(1, 100)\n",
    "\n",
    "print(\"🎯 Guess the Number Game (Binary Hint Style)!\")\n",
    "print(\"I have chosen a number between 1 and 100.\")\n",
    "\n",
    "low, high = 1, 100\n",
    "attempts = 0\n",
    "\n",
    "while True:\n",
    "    guess = int(input(f\"Enter your guess ({low}-{high}): \"))\n",
    "    attempts += 1\n",
    "    \n",
    "    if guess == secret:\n",
    "        print(f\"🎉 Correct! The number was {secret}. Attempts: {attempts}\")\n",
    "        break\n",
    "    elif guess < secret:\n",
    "        print(\"⬆️ Too low!\")\n",
    "        low = max(low, guess + 1)  # Hint: number is higher\n",
    "    else:\n",
    "        print(\"⬇️ Too high!\")\n",
    "        high = min(high, guess - 1)  # Hint: number is lower\n"
   ]
  },
  {
   "cell_type": "code",
   "execution_count": null,
   "id": "91f81619",
   "metadata": {},
   "outputs": [],
   "source": [
    "# Q13. Write a program to print all prime numbers between 1 and 100\n",
    "import math\n",
    "for num in range(1,101):\n",
    "  is_Prime= True\n",
    "  for n in range(2,int(math.sqrt(num))+1):\n",
    "    if num%n ==0:\n",
    "     is_Prime= False\n",
    "     break\n",
    "  if is_Prime:\n",
    "    print(num)"
   ]
  },
  {
   "cell_type": "code",
   "execution_count": null,
   "id": "5a83d9a6",
   "metadata": {},
   "outputs": [],
   "source": [
    "# Q14. Check if a given year is a leap year or not.\n",
    "Year = int(input(\"Enter Year...\"))\n",
    "if(Year%4==0)or (Year %400 == 0):\n",
    "  print(\"Year is leap \")\n",
    "else:\n",
    "  print(\"Not Leap Year\")"
   ]
  },
  {
   "cell_type": "code",
   "execution_count": null,
   "id": "6c928355",
   "metadata": {},
   "outputs": [],
   "source": [
    "# Q15. Create a program to print the Fibonacci series up to N terms\n",
    "N = int(input(\"Enter Number..\"))\n",
    "a = 0 \n",
    "b=1 \n",
    "for i in range(N):\n",
    "  print(a,end=\" \")\n",
    "  a,b=b,a+b\n"
   ]
  },
  {
   "cell_type": "code",
   "execution_count": null,
   "id": "73aa5fee",
   "metadata": {},
   "outputs": [],
   "source": [
    "# Q16. Write a program to find the GCD of two numbers\n",
    "\n",
    "a = int(input(\"Enter 1 \"))\n",
    "b = int(input(\"Enter 2 \"))\n",
    "x,y=a,b\n",
    "while b !=0 :\n",
    "  a,b=b,a%b\n",
    "gcd = a \n",
    "lcm= (x*y)\n",
    "print(\"GCD is : \",gcd)\n",
    "print(\"LCM is : \",lcm)\n",
    "\n",
    "\n",
    "\n"
   ]
  },
  {
   "cell_type": "code",
   "execution_count": null,
   "id": "7acde708",
   "metadata": {},
   "outputs": [],
   "source": [
    "# Q17. Write a program to find the LCM of two numbers.\n"
   ]
  },
  {
   "cell_type": "code",
   "execution_count": null,
   "id": "e10eb62d",
   "metadata": {},
   "outputs": [],
   "source": [
    "# Q18. Check whether a character is a vowel or consonant.\n",
    "try:\n",
    " n = input(\"asdjasd;\")\n",
    " vowal= \"aeiouAEIOU\"\n",
    " if len(n)==1 and  n.isalpha():\n",
    "   if  n in vowal:\n",
    "    print(\"its vol\")\n",
    "   else:\n",
    "     print(\"Const\")\n",
    " else: \n",
    "  print(\"please enter Charcter \")\n",
    "except TypeError as e :\n",
    " print(\"only Alpha:\",e)\n"
   ]
  },
  {
   "cell_type": "code",
   "execution_count": null,
   "id": "439d02e8",
   "metadata": {},
   "outputs": [],
   "source": [
    "# Q19. Write a program to calculate the sum of digits of a number\n",
    "\n",
    "n = int(input(\"Enter Number\"))\n",
    "count= 0 \n",
    "while n>0:\n",
    "  n//=10\n",
    "  count+=1\n",
    "print(count)"
   ]
  },
  {
   "cell_type": "code",
   "execution_count": null,
   "id": "a6c430f8",
   "metadata": {},
   "outputs": [],
   "source": [
    "# Q20. Create a program to find the second largest number in a list.\n",
    "lst = [23,34,3,56,7,58,67,58,6,756,78,66,534]\n",
    "l1=lst[0]\n",
    "l2= lst[1]\n",
    "if l1>l2:\n",
    "  l1,l2= l2,l1\n",
    "for i in lst[2:]:\n",
    "  if i > l1:\n",
    "    l2= l1\n",
    "    l1=i \n",
    "  elif i>l2 and i !=l1:\n",
    "    l2 = i \n",
    "print( \"leargest :\",l1)\n",
    "print(\"Second Leargest :\",l2)\n",
    "\n",
    "\n",
    "\n"
   ]
  },
  {
   "cell_type": "code",
   "execution_count": null,
   "id": "69799d73",
   "metadata": {},
   "outputs": [],
   "source": [
    "# Q21. Write a program to count the number of digits in an integer.\n",
    "try: \n",
    "  num = int(input(\"Enter a Number.\"))\n",
    "  n = num \n",
    "  count= 0 \n",
    "  if n ==0:\n",
    "   count= 1\n",
    "  else: \n",
    "     while n>0:\n",
    "       n //=10\n",
    "       count+=1\n",
    "  print(\"Total Count of chracter:\",count)\n",
    "except Exception as e:\n",
    "  print(\"only integer value enter : \",e)\n"
   ]
  },
  {
   "cell_type": "code",
   "execution_count": null,
   "id": "1dfbfb88",
   "metadata": {},
   "outputs": [],
   "source": [
    "# Q22. Create a program to print all Armstrong numbers between 1 to 1000\n",
    "for num in range(1,1001):\n",
    "  n = num \n",
    "  res= 0\n",
    "  power = len(str(num))\n",
    "  while n>0:\n",
    "    id = n %10\n",
    "    res += id**power \n",
    "    n //=10\n",
    "  if res==num:\n",
    "     print(num,\"is Aemstrong\" )\n",
    "\n",
    "\n",
    "\n",
    " \n",
    "\n"
   ]
  },
  {
   "cell_type": "code",
   "execution_count": null,
   "id": "ddbc2ad0",
   "metadata": {},
   "outputs": [],
   "source": [
    "# Q23. Write a Python program to print a pattern of stars in a triangle.\n",
    "n = 5 \n",
    "for i in range(n,0,-1):\n",
    "  for j in range(i):\n",
    "    print(\"*\",end=\" \")\n",
    "\n",
    "  print()\n"
   ]
  },
  {
   "cell_type": "code",
   "execution_count": null,
   "id": "c2e08396",
   "metadata": {},
   "outputs": [],
   "source": [
    "# Q24. Create a calculator app using if-else.i\n",
    "num1= int(input(\"en 1 \"))\n",
    "\n",
    "num2= int(input(\"en 2 \"))\n",
    "print(\"ent opreation + - * /:\")\n",
    "op = input(\"Enter Opreator: \")\n",
    "if op=='+':\n",
    "  print(\"Result\",num1+num2)\n",
    "elif op=='-':\n",
    "  print(\"Result\",num1-num2)\n",
    "elif op=='*':\n",
    "  print(\"Result\",num1*num2)\n",
    "elif op=='/':\n",
    "  print(\"Result\",num1/num2)\n",
    "\n",
    "\n",
    "\n",
    "\n"
   ]
  },
  {
   "cell_type": "code",
   "execution_count": null,
   "id": "9e20f21c",
   "metadata": {},
   "outputs": [],
   "source": [
    "# Q25. Write a program to display the ASCII value of a character.\n",
    "a=input(\"Enter Character \")\n",
    "print(ord(a))"
   ]
  },
  {
   "cell_type": "code",
   "execution_count": null,
   "id": "bc5c07bf",
   "metadata": {},
   "outputs": [],
   "source": [
    "# Q26. Convert a decimal number to binary using loops..\n",
    "a = int(input(\"Enter a Decimal Number\"))\n",
    "print(bin(a))\n"
   ]
  },
  {
   "cell_type": "code",
   "execution_count": null,
   "id": "c8f677a3",
   "metadata": {},
   "outputs": [],
   "source": [
    "# Q27. Create a program to find the square root of a number\n",
    "a = int(input(\"Enter a Number.\"))\n",
    "print(float(a//2))"
   ]
  },
  {
   "cell_type": "code",
   "execution_count": null,
   "id": "fb212795",
   "metadata": {},
   "outputs": [],
   "source": [
    "# Q28. Write a program to find the sum of all even numbers in a list.\n",
    "\n",
    "lst = [3,4,6,3,5,6,3]\n",
    "total = 0 \n",
    "for i in lst:\n",
    "  total+=i\n",
    "print(\"Sum of List :\" ,total)\n",
    "\n",
    "\n",
    "\n",
    "\n"
   ]
  },
  {
   "cell_type": "code",
   "execution_count": null,
   "id": "fd10779b",
   "metadata": {},
   "outputs": [],
   "source": [
    "\n",
    "# Q29. Create a program to check whether a number is prime or not\n",
    "\n",
    "n= int(input(\"Eaopdk\"))\n",
    "for i in range(2,n):\n",
    "\n",
    "    if n %i==0:\n",
    "      print(\"false\")\n",
    "      break\n",
    "    else:  \n",
    "      print(True)\n",
    "      break\n"
   ]
  },
  {
   "cell_type": "code",
   "execution_count": null,
   "id": "ec005dc2",
   "metadata": {},
   "outputs": [],
   "source": [
    "# Q30. Write a program to display the cube of the number up to an integer\n",
    "a   = int(input(\"Enter Number..\"))\n",
    "for i in range(1,a+1):\n",
    "   print(f\"The Cube of {a} is {a**3}\")\n",
    "   break\n",
    "\n"
   ]
  },
  {
   "cell_type": "code",
   "execution_count": null,
   "id": "1c501fd1",
   "metadata": {},
   "outputs": [],
   "source": [
    "# marged 2 dictonaris\n",
    "ap ={\n",
    "  1:\"ap\",\n",
    "  2:\"dp\",\n",
    "  3:\"cp\",\n",
    "}\n",
    "ak ={\n",
    "  4:\"kp\",\n",
    "  5:\"mp\",\n",
    "  6:\"lp\",\n",
    "}\n",
    "m = ap | ak\n",
    "print(m )\n"
   ]
  },
  {
   "cell_type": "code",
   "execution_count": null,
   "id": "71186124",
   "metadata": {},
   "outputs": [],
   "source": [
    "#merged 2 tuple \n",
    "ap = (1,3,5,6)\n",
    "ak = (4,6,7,8)\n",
    "m = ap +ak\n",
    "print(m)"
   ]
  },
  {
   "cell_type": "code",
   "execution_count": null,
   "id": "03b295d8",
   "metadata": {},
   "outputs": [],
   "source": [
    "\n"
   ]
  },
  {
   "cell_type": "code",
   "execution_count": null,
   "id": "1271772c",
   "metadata": {},
   "outputs": [],
   "source": [
    "#merged 2 list \n",
    "ap= [1,2,4,5,6]\n",
    "ak= [11,24,46,58,63]\n",
    "m = ap+ak\n",
    "print(m)"
   ]
  },
  {
   "cell_type": "code",
   "execution_count": null,
   "id": "cd6dd243",
   "metadata": {},
   "outputs": [],
   "source": [
    "# write a script check even or not\n",
    "n = 36\n",
    "if n %2 == 0 :\n",
    "  print(\"even\")\n",
    "else:\n",
    "  print('not even ')"
   ]
  },
  {
   "cell_type": "code",
   "execution_count": null,
   "id": "ecfd6f8e",
   "metadata": {},
   "outputs": [
    {
     "name": "stdout",
     "output_type": "stream",
     "text": [
      "94\n"
     ]
    }
   ],
   "source": [
    "# write a script sum of list \n",
    "lst = [4,6,3,6,45,3,4,23]\n",
    "count=0 \n",
    "for i in lst:\n",
    "  count+=i\n",
    "print(count)  "
   ]
  },
  {
   "cell_type": "code",
   "execution_count": null,
   "id": "4c7ca677",
   "metadata": {},
   "outputs": [],
   "source": []
  },
  {
   "cell_type": "code",
   "execution_count": null,
   "id": "e83dffb8",
   "metadata": {},
   "outputs": [
    {
     "name": "stdout",
     "output_type": "stream",
     "text": [
      "[2, 4, 34, 53, 46, 23]\n"
     ]
    }
   ],
   "source": [
    "# write a script and give me uniqe value in list \n",
    "lst = [2,4,34,53,46,23,23,2,4]\n",
    "uni = []\n",
    "for num in lst:\n",
    "  if num not in uni:\n",
    "    uni.append(num)\n",
    "print(uni)"
   ]
  },
  {
   "cell_type": "code",
   "execution_count": null,
   "id": "54afcb31",
   "metadata": {},
   "outputs": [],
   "source": []
  },
  {
   "cell_type": "code",
   "execution_count": null,
   "id": "dbb7d348",
   "metadata": {},
   "outputs": [
    {
     "data": {
      "text/plain": [
       "'olleh '"
      ]
     },
     "execution_count": 17,
     "metadata": {},
     "output_type": "execute_result"
    }
   ],
   "source": [
    "# write a reverse string \n",
    "def ap(n):\n",
    "  rev = \" \"\n",
    "  for i in n:\n",
    "    rev= i+rev\n",
    "  return rev\n",
    "ap(\"hello\")"
   ]
  },
  {
   "cell_type": "code",
   "execution_count": null,
   "id": "b1bef24f",
   "metadata": {},
   "outputs": [
    {
     "name": "stdout",
     "output_type": "stream",
     "text": [
      "(1, 3, 5, 6, 7, 8) [1, 3, 5, 6, 7, 8]\n"
     ]
    }
   ],
   "source": []
  },
  {
   "cell_type": "code",
   "execution_count": null,
   "id": "aa6c1863",
   "metadata": {},
   "outputs": [],
   "source": []
  },
  {
   "cell_type": "code",
   "execution_count": 19,
   "id": "e0a7f129",
   "metadata": {},
   "outputs": [
    {
     "name": "stdout",
     "output_type": "stream",
     "text": [
      "{1: 1, 2: 4, 3: 9, 4: 16, 5: 25, 6: 36, 7: 49, 8: 64, 9: 81, 10: 100, 11: 121, 12: 144, 13: 169, 14: 196, 15: 225, 16: 256, 17: 289, 18: 324, 19: 361}\n"
     ]
    }
   ],
   "source": [
    "sq = {}\n",
    "for i in range(1,20):\n",
    "  sq[i]=i*i\n",
    "print(sq)"
   ]
  },
  {
   "cell_type": "code",
   "execution_count": null,
   "id": "c1bf94b4",
   "metadata": {},
   "outputs": [],
   "source": [
    "# write a scipt sort the list using sort mathod\n",
    "lst=[14,43,53,6,4,5,67,56,434,46,5,45]\n",
    "l= sorted(lst)\n",
    "print(l)"
   ]
  },
  {
   "cell_type": "code",
   "execution_count": null,
   "id": "b98c79ca",
   "metadata": {},
   "outputs": [
    {
     "name": "stdout",
     "output_type": "stream",
     "text": [
      "right ayuhs\n"
     ]
    }
   ],
   "source": [
    "# find the dict key value\n",
    "a = {1 :\"ayuhs\",2:\"krish\",3:\"shree\"}\n",
    "key= 1\n",
    "if key in a:\n",
    "  print(\"right\",a[1])\n",
    "else:\n",
    "  print(\"else\")"
   ]
  },
  {
   "cell_type": "code",
   "execution_count": null,
   "id": "dab3c4b3",
   "metadata": {},
   "outputs": [
    {
     "name": "stdout",
     "output_type": "stream",
     "text": [
      "[2, 3, 5]\n"
     ]
    }
   ],
   "source": [
    "# write a scipt find the common  element in 2 list\n",
    "def commen(l1,l2):\n",
    "  return list(set(l1)&set(l2))\n",
    "l1=[2,3,4,5,2,5]\n",
    "l2=[2,3,9,5,6,5]\n",
    "print(commen(l1,l2))"
   ]
  },
  {
   "cell_type": "code",
   "execution_count": null,
   "id": "0a58c526",
   "metadata": {},
   "outputs": [
    {
     "data": {
      "text/plain": [
       "120"
      ]
     },
     "execution_count": 22,
     "metadata": {},
     "output_type": "execute_result"
    }
   ],
   "source": []
  },
  {
   "cell_type": "code",
   "execution_count": null,
   "id": "2f087f17",
   "metadata": {},
   "outputs": [],
   "source": []
  },
  {
   "cell_type": "code",
   "execution_count": null,
   "id": "22794ca8",
   "metadata": {},
   "outputs": [],
   "source": [
    "#write a program to find the largest and smallest element in a list \n",
    "a = [32,5,56,678,23,23,4,342,53]\n",
    "max(a)"
   ]
  },
  {
   "cell_type": "code",
   "execution_count": null,
   "id": "d35d170b",
   "metadata": {},
   "outputs": [],
   "source": [
    "# write a display vowal in sting upper case , lower case seprately \n",
    "# given num so makeing message\n",
    "\n",
    "a = input('Enter') \n",
    "if not a.isalpha():\n",
    "  print(\"not acceptable\") \n",
    "else: \n",
    "  vol = \"aeiou\"\n",
    "  b=\"AEIOU\"\n",
    "  count = 0\n",
    "  count1 = 0\n",
    "  for i in a:\n",
    "    if i in vol:\n",
    "     count +=1\n",
    "    elif i in b : \n",
    "     count1+=1\n",
    "  print(\"lower vowel\" , count),\n",
    "  print(\"Upper vowel\" ,count1)\n"
   ]
  },
  {
   "cell_type": "code",
   "execution_count": null,
   "id": "f21f3607",
   "metadata": {},
   "outputs": [],
   "source": []
  },
  {
   "cell_type": "code",
   "execution_count": null,
   "id": "d83999fa",
   "metadata": {},
   "outputs": [],
   "source": []
  },
  {
   "cell_type": "code",
   "execution_count": null,
   "id": "c557309a",
   "metadata": {},
   "outputs": [],
   "source": [
    "# Write a script marged 2 dictnory \n",
    "dic1={1:\"Ayush\",2:\"Omrep\",3:\"Somix\", 4:\"kinu\"}\n",
    "dic2={5:\"Ayush\",6:\"Omrep\",7:\"Somix\", 8:\"kinu\"}\n",
    "marged = dic1 | dic2\n",
    "print(marged)"
   ]
  },
  {
   "cell_type": "code",
   "execution_count": null,
   "id": "8d24e835",
   "metadata": {},
   "outputs": [],
   "source": [
    "\n",
    "def fab(n):\n",
    "  a= 0 \n",
    "  b = 1\n",
    "  for i in range(n):\n",
    "    print(a)\n",
    "    a,b= b,a+b\n",
    "  return a\n",
    "fab(5)"
   ]
  },
  {
   "cell_type": "code",
   "execution_count": null,
   "id": "9ae8b24a",
   "metadata": {},
   "outputs": [],
   "source": [
    "n = 6\n",
    "for i in range(n,0,-1):\n",
    " print(\"* \"*i)"
   ]
  },
  {
   "cell_type": "code",
   "execution_count": null,
   "id": "dfadf65a",
   "metadata": {},
   "outputs": [],
   "source": [
    "with open(\"my.txt\",\"w\") as mf:\n",
    "  mf.write(\"\"\"Hello World!\"\"\")\n",
    "with open(\"my.txt\",'r') as f: \n",
    "  lines = f.readline()\n",
    "  print(lines)\n",
    "  print(len(lines))"
   ]
  },
  {
   "cell_type": "code",
   "execution_count": null,
   "id": "543d16b9",
   "metadata": {},
   "outputs": [],
   "source": [
    "# write a script replace space to hyphen\n",
    "a = \"teri nazro ka sitam\"\n",
    "\n",
    "\n",
    "p = a.replace(\" \",\"_\")\n",
    "\n",
    "print(p)"
   ]
  },
  {
   "cell_type": "code",
   "execution_count": null,
   "id": "c3b48d95",
   "metadata": {},
   "outputs": [],
   "source": [
    "# Write a script check amstrong number in range\n",
    "for num in range(1,501):\n",
    "  n = num \n",
    "  res = 0 \n",
    "  power = len(str(num))\n",
    "  while n > 0 :\n",
    "    id = n %10 \n",
    "    res +=id**power\n",
    "    n //=10\n",
    " \n",
    "  if num  == res:\n",
    "     print(\"atm\",num)\n",
    "\n",
    "    "
   ]
  },
  {
   "cell_type": "code",
   "execution_count": null,
   "id": "f10c1b7c",
   "metadata": {},
   "outputs": [],
   "source": [
    "# write a script print prime number \n",
    "s =1 \n",
    "e= 90\n",
    "print(a, b)\n",
    "for n in range(s,e+1):\n",
    "  if n > 1:\n",
    "    for q in range(2,n):\n",
    "      if n % q == 0:\n",
    "       break\n",
    "    else:\n",
    "      print(n)"
   ]
  },
  {
   "cell_type": "markdown",
   "id": "284006fc",
   "metadata": {},
   "source": [
    "Python Tech Round\n"
   ]
  },
  {
   "cell_type": "code",
   "execution_count": null,
   "id": "99537f4d",
   "metadata": {},
   "outputs": [],
   "source": [
    "#  Reverse a String / pilindrome \n",
    "a = \"helloMaster!\"\n",
    "rev = \"\"\n",
    "for i in range(len(a)):\n",
    "  rev  =  a[i]+rev\n",
    "if rev == a:\n",
    "  print(\"Pilindrome\",rev)\n",
    "\n",
    "else:\n",
    "  print(\"not pilim\")\n",
    "  print(\"Reverse String is: \",rev)\n",
    "  \n"
   ]
  },
  {
   "cell_type": "code",
   "execution_count": null,
   "id": "d71d97db",
   "metadata": {},
   "outputs": [],
   "source": [
    "# write a script find min, max\n",
    "a = [2,4,58,9,0]\n",
    "max(a)\n",
    "# min(a)"
   ]
  },
  {
   "cell_type": "code",
   "execution_count": null,
   "id": "9c0cbb7b",
   "metadata": {},
   "outputs": [],
   "source": [
    "#1.  Count Vowels and Consonants\n",
    "# 2. Count Vowels and Consonants lower seprate ,upper seprate num, not allowdnN \n",
    "\n",
    "n = \"BaseExceptionGroup\"\n",
    "vol = \"AEIOUaeiou\"\n",
    "v_count= 0\n",
    "c_count= 0\n",
    "for i in n:\n",
    "  if i in vol:\n",
    "    v_count+=1\n",
    "  else:\n",
    "    c_count+=1\n",
    "print(\"Total Vowel is:\", v_count)\n",
    "print(\"Total Consonents is:\", c_count)\n",
    "\n"
   ]
  },
  {
   "cell_type": "code",
   "execution_count": null,
   "id": "bce3c401",
   "metadata": {},
   "outputs": [],
   "source": [
    "# write a script and find vowel in string vowel and contonent seprately \n",
    "# num not allowed\n",
    "\n",
    "n = input(\"ENTER\")\n",
    "if not n.isalpha():\n",
    "  print(\"Int is not accecptable\")\n",
    "else:\n",
    "  vol = \"AEIOUaeiou\"\n",
    "  v_count= 0\n",
    "  c_count= 0 \n",
    "  for i in n:\n",
    "    if i in vol:\n",
    "      v_count+=1\n",
    "    else:\n",
    "      c_count+=1\n",
    "  print(\"Total Vowel is:\", v_count)\n",
    "  print(\"Total Consonents is:\", c_count)"
   ]
  },
  {
   "cell_type": "code",
   "execution_count": null,
   "id": "0519ec42",
   "metadata": {},
   "outputs": [],
   "source": [
    "# write a script swap 2 numbers \n",
    "x=6\n",
    "y=5\n",
    "c=0\n",
    "c=y\n",
    "y=x\n",
    "x=c\n",
    "print(x,y)"
   ]
  },
  {
   "cell_type": "code",
   "execution_count": null,
   "id": "4b222295",
   "metadata": {},
   "outputs": [],
   "source": [
    "x=6\n",
    "y=5\n",
    "x,y = y,x\n",
    "print(x,y)\n"
   ]
  },
  {
   "cell_type": "code",
   "execution_count": null,
   "id": "9ab171b4",
   "metadata": {},
   "outputs": [],
   "source": [
    "\n",
    "a = 11\n",
    "res = 0 \n",
    "for i in range(a+1):\n",
    "  if i > 0 :\n",
    "    res+= i\n",
    "  print(res)\n"
   ]
  },
  {
   "cell_type": "code",
   "execution_count": null,
   "id": "a841e052",
   "metadata": {},
   "outputs": [],
   "source": [
    "# Write a Script sum of given number \n",
    "a = int(input(\"Enter Digits \"))\n",
    "res = 0 \n",
    "while a>0:\n",
    "  id= a %10\n",
    "  res+=id\n",
    "  a //=10\n",
    "print(res)"
   ]
  },
  {
   "cell_type": "code",
   "execution_count": null,
   "id": "42603b09",
   "metadata": {},
   "outputs": [],
   "source": [
    "# check prime / or not \n",
    "a = int(input(\"Enter\"))\n",
    "for i in range(2,a+1):\n",
    "  if a%i==0:\n",
    "    print(\"This Number is not Prime \") \n",
    "    break\n",
    "  else:\n",
    "    print(\"This Number is  Prime \") \n",
    "    break\n",
    "  \n"
   ]
  },
  {
   "cell_type": "code",
   "execution_count": null,
   "id": "0ed9a55f",
   "metadata": {},
   "outputs": [],
   "source": [
    "# write a script find even and odd string word (spaces not count )\n",
    "str= input(\"Enter\")\n",
    "no_space= str.replace(\" \",\"\")\n",
    "even= \"\"\n",
    "odd = \"\" \n",
    "for i in range(len(no_space)):\n",
    "  if i%2==0:\n",
    "    even+=no_space[i]\n",
    "  else:\n",
    "    odd+=no_space[i]\n",
    "print(\" Print Even :\",even)\n",
    "print(\" Odd Even :\",odd)\n"
   ]
  },
  {
   "cell_type": "code",
   "execution_count": null,
   "id": "c1fbae83",
   "metadata": {},
   "outputs": [],
   "source": [
    "# 25. Binary Search Implementation & Bubble Sort Implementation\n",
    "def Bin_serch(arr,target):\n",
    "  left , right = 0 ,len(arr)-1\n",
    "  while left <= right:\n",
    "    mid= (left +right) //2 # mid index\n",
    "    if arr[mid]==target:\n",
    "      return mid\n",
    "    elif arr[mid]<target:\n",
    "      left =mid+1\n",
    "    else: \n",
    "       right =mid-1\n",
    "  return -1\n",
    "arr = [2,3,4,5,3,6,4,11,5,522,2]\n",
    "print(Bin_serch(arr,6))"
   ]
  },
  {
   "cell_type": "code",
   "execution_count": null,
   "id": "059d371c",
   "metadata": {},
   "outputs": [],
   "source": [
    "#  Remove Duplicates from a List\n",
    "a = [1,3,4,3,5,4,1,3,3,23,4,35,2,2,1]\n",
    "uni = set()\n",
    "res =[]\n",
    "for i in a:\n",
    "  if i not in uni:\n",
    "    res.append(i)\n",
    "    uni.add(i)\n",
    "print(res)"
   ]
  },
  {
   "cell_type": "code",
   "execution_count": null,
   "id": "51672f4c",
   "metadata": {},
   "outputs": [],
   "source": [
    "# Swap Two Numbers\n",
    "a =  11 \n",
    "b =14\n",
    "print(a,b)\n",
    "c= 0 \n",
    "c= b\n",
    "b = a \n",
    "a = c\n",
    "print(\"swap\" ,a,b) # mathod 1 \n",
    "n  = 9 \n",
    "i = 5\n",
    "print(n,i)\n",
    "n , i = i,n\n",
    "print(\"swap\",n,i) # mathod 2\n"
   ]
  },
  {
   "cell_type": "code",
   "execution_count": null,
   "id": "81001a97",
   "metadata": {},
   "outputs": [],
   "source": []
  },
  {
   "cell_type": "code",
   "execution_count": null,
   "id": "4c19b5ef",
   "metadata": {},
   "outputs": [],
   "source": [
    "# Strong number \n",
    "# // given the num and find factorial and add  if your fact sum is == given number is called strong number.\n",
    "p = int(input(\"Enter a Number\"))\n",
    "a = p \n",
    "tot = 0 \n",
    "while a > 0:\n",
    "  fact= 1\n",
    "  y = a%10\n",
    "  for i in range(1,y+1):\n",
    "    fact*=i\n",
    "  tot+= fact\n",
    "  a = a//10\n",
    "if tot == p:\n",
    "  print(\"Strong Number\")\n",
    "else: \n",
    "  print(\"Not Strong Number\")\n",
    "\n",
    "\n"
   ]
  },
  {
   "cell_type": "code",
   "execution_count": null,
   "id": "5943f291",
   "metadata": {},
   "outputs": [],
   "source": [
    "# Write a scipt find the factorial\n",
    "n = int(input(\"Enter Fact. Num \"))\n",
    "sum = 1\n",
    "for i in range(1,n+1):\n",
    "  if n > 0:\n",
    "    sum*=i\n",
    "print(sum)"
   ]
  },
  {
   "cell_type": "code",
   "execution_count": null,
   "id": "e8d2aaf4",
   "metadata": {},
   "outputs": [],
   "source": [
    "# count the digit of number \n",
    "Num =845\n",
    "count= 0\n",
    "while Num >0 :\n",
    "  Num//=10\n",
    "  count+=1\n",
    "print(count)"
   ]
  },
  {
   "cell_type": "code",
   "execution_count": null,
   "id": "b316d759",
   "metadata": {},
   "outputs": [],
   "source": [
    "# . Longest Word in a Sentence\n",
    "a= \"This approach correctly identifies the longest sentence based on its character length. Alternatively if you prefer not to use external libraries, you can split the paragraph by periods,\"\n",
    "p= a.split()\n",
    "v = max(p, key=len)\n",
    "print(v)"
   ]
  },
  {
   "cell_type": "code",
   "execution_count": null,
   "id": "e0ade65f",
   "metadata": {},
   "outputs": [],
   "source": [
    "# Sum of First N Natural Numbers\n",
    "num = int(input(\"Enter\"))\n",
    "sum = 0\n",
    "\n",
    "for i in range( 1,num+1):\n",
    "  if i > 0: \n",
    "    sum+=i\n",
    "    \n",
    "\n",
    "  print(sum)\n",
    "\n",
    "\n",
    "\n",
    "\n"
   ]
  },
  {
   "cell_type": "code",
   "execution_count": null,
   "id": "a7f8c0bd",
   "metadata": {},
   "outputs": [],
   "source": [
    "# Write a script find 1 and 2 highest number\n",
    "n = [34,4,2,4,24,35,43,454,400]\n",
    "l1 = n[0]\n",
    "l2= n[1]\n",
    "if l1>l2:\n",
    "  l1,l2 = l2,l1 \n",
    "  for i in n[2:]:\n",
    "    if i >l1:\n",
    "      l2 = l1 \n",
    "      l1 = i \n",
    "    elif i > l2 and i !=l1:\n",
    "      l2 = i \n",
    "  print( \"Highest Number in list: \" ,l1)\n",
    "  print( \"Second Highest Number in list: \",l2)\n"
   ]
  },
  {
   "cell_type": "code",
   "execution_count": null,
   "id": "1322080e",
   "metadata": {},
   "outputs": [],
   "source": [
    "# write a script find cube and square given range 1 , 10 \n",
    "for i in range(1,11):\n",
    "  print(f\" cube {i**3} and squt {i*i}\")"
   ]
  },
  {
   "cell_type": "code",
   "execution_count": null,
   "id": "04388dc6",
   "metadata": {},
   "outputs": [],
   "source": [
    "# write a script find frequent number in list \n",
    "num = [3,4,34,3,4,24,3,4,24,3,4,3]\n",
    "count = {}\n",
    "for nom in num:\n",
    "  if nom in count:\n",
    "    count[nom]+=1\n",
    "  else:\n",
    "    count[nom]=1\n",
    "freq_max= max(count , key=count.get)\n",
    "print(freq_max)"
   ]
  },
  {
   "cell_type": "code",
   "execution_count": null,
   "id": "0042ec5d",
   "metadata": {},
   "outputs": [],
   "source": [
    "#  Write a script check num anagram or not \n",
    "\n",
    "w_one= \"ayush\"\n",
    "w_two = \"yashu\"\n",
    "if sorted(w_one )== sorted(w_two):\n",
    "   print(True)\n",
    "else:\n",
    "   print(False)\n"
   ]
  },
  {
   "cell_type": "code",
   "execution_count": null,
   "id": "f6a330fa",
   "metadata": {},
   "outputs": [],
   "source": [
    "# write a script of Print Pyramid Patterns and Diamond Pattern\n",
    "n = 6 \n",
    "\n",
    "for t in range(1,n):\n",
    " \n",
    " print(\" \"*(n-t)+ \"* \"*t)\n",
    "for i in range(n,0,-1):\n",
    "  \n",
    "  print(\" \"*(n-i)+ \"* \"*i)\n"
   ]
  },
  {
   "cell_type": "code",
   "execution_count": null,
   "id": "66fb14e2",
   "metadata": {},
   "outputs": [],
   "source": [
    "# write a script GCD and LCM Calculation\n",
    "a = 12\n",
    "b =16\n",
    "\n",
    "gcd = 1 \n",
    "for i in range(1, min(a,b)+1):\n",
    "  if a % i == 0 and b % i == 0:\n",
    "      gcd =i \n",
    "lcm = (a*b)//gcd\n",
    "\n",
    "print(gcd)\n",
    "print(lcm)\n",
    "\n"
   ]
  },
  {
   "cell_type": "code",
   "execution_count": null,
   "id": "a9362d76",
   "metadata": {},
   "outputs": [],
   "source": [
    "# Write a script sort the Dictonart by value \n",
    "ap ={1:\"om\",2:\"ap\",3:\"ak\",4:\"sp\",5:\"kp\"}\n",
    "s = dict(sorted(ap.items(),key=lambda x : x[1]))\n",
    "print(s)"
   ]
  },
  {
   "cell_type": "code",
   "execution_count": null,
   "id": "30774c50",
   "metadata": {},
   "outputs": [],
   "source": [
    "# write a script find top 2 repreated words in a sentance \n",
    "sen = \"hey this is the best pratice part to showcase our logic is this \"\n",
    "word = sen.split()\n",
    "for i in word:\n",
    "  if word.count(i)==2:\n",
    "    print(i)  \n",
    "    "
   ]
  },
  {
   "cell_type": "code",
   "execution_count": null,
   "id": "b091ed9c",
   "metadata": {},
   "outputs": [],
   "source": []
  },
  {
   "cell_type": "code",
   "execution_count": null,
   "id": "99dd4793",
   "metadata": {},
   "outputs": [],
   "source": []
  },
  {
   "cell_type": "markdown",
   "id": "97185bf5",
   "metadata": {},
   "source": [
    "Python Tech Round \n"
   ]
  },
  {
   "cell_type": "code",
   "execution_count": null,
   "id": "9a0a1525",
   "metadata": {},
   "outputs": [],
   "source": []
  }
 ],
 "metadata": {
  "kernelspec": {
   "display_name": "base",
   "language": "python",
   "name": "python3"
  },
  "language_info": {
   "codemirror_mode": {
    "name": "ipython",
    "version": 3
   },
   "file_extension": ".py",
   "mimetype": "text/x-python",
   "name": "python",
   "nbconvert_exporter": "python",
   "pygments_lexer": "ipython3",
   "version": "3.13.5"
  }
 },
 "nbformat": 4,
 "nbformat_minor": 5
}
