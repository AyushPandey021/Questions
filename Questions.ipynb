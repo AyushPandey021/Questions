{
 "cells": [
  {
   "cell_type": "markdown",
   "id": "5f8a4acb",
   "metadata": {},
   "source": [
    "Top 30 ImP Question Must be slove ,\n",
    "Variables, Data Types, Input/Output, Loops, Conditionals\n"
   ]
  },
  {
   "cell_type": "code",
   "execution_count": 5,
   "id": "f31961f7",
   "metadata": {},
   "outputs": [
    {
     "name": "stdout",
     "output_type": "stream",
     "text": [
      "(7, 4)\n"
     ]
    }
   ],
   "source": [
    "# Q1. Write a Python program to swap two variables.\n",
    "a = 4 \n",
    "b = 7 \n",
    "c = a ,b  = b , a\n",
    "print(c)"
   ]
  },
  {
   "cell_type": "code",
   "execution_count": 6,
   "id": "ecab7763",
   "metadata": {},
   "outputs": [
    {
     "name": "stdout",
     "output_type": "stream",
     "text": [
      "\n"
     ]
    }
   ],
   "source": [
    "# Q2. Take user input and display it back to the user\n",
    "user_Input = input(\"Enter something..\")\n",
    "print(user_Input)"
   ]
  },
  {
   "cell_type": "code",
   "execution_count": 7,
   "id": "77a62fad",
   "metadata": {},
   "outputs": [
    {
     "ename": "ValueError",
     "evalue": "invalid literal for int() with base 10: ''",
     "output_type": "error",
     "traceback": [
      "\u001b[31m---------------------------------------------------------------------------\u001b[39m",
      "\u001b[31mValueError\u001b[39m                                Traceback (most recent call last)",
      "\u001b[36mCell\u001b[39m\u001b[36m \u001b[39m\u001b[32mIn[7]\u001b[39m\u001b[32m, line 2\u001b[39m\n\u001b[32m      1\u001b[39m \u001b[38;5;66;03m# Q3. Write a program to check if a number is even or odd.\u001b[39;00m\n\u001b[32m----> \u001b[39m\u001b[32m2\u001b[39m num = \u001b[38;5;28;43mint\u001b[39;49m\u001b[43m(\u001b[49m\u001b[38;5;28;43minput\u001b[39;49m\u001b[43m(\u001b[49m\u001b[33;43m\"\u001b[39;49m\u001b[33;43mEnter Number\u001b[39;49m\u001b[33;43m\"\u001b[39;49m\u001b[43m)\u001b[49m\u001b[43m)\u001b[49m\n\u001b[32m      3\u001b[39m \u001b[38;5;28;01mif\u001b[39;00m num % \u001b[32m2\u001b[39m ==\u001b[32m0\u001b[39m:\n\u001b[32m      4\u001b[39m   \u001b[38;5;28mprint\u001b[39m(\u001b[33m\"\u001b[39m\u001b[33mNumber is Even\u001b[39m\u001b[33m\"\u001b[39m)\n",
      "\u001b[31mValueError\u001b[39m: invalid literal for int() with base 10: ''"
     ]
    }
   ],
   "source": [
    "# Q3. Write a program to check if a number is even or odd.\n",
    "num = int(input(\"Enter Number\"))\n",
    "if num % 2 ==0:\n",
    "  print(\"Number is Even\")\n",
    "else:\n",
    "  print(\"Numver is Odd\")"
   ]
  },
  {
   "cell_type": "code",
   "execution_count": null,
   "id": "f4ec1004",
   "metadata": {},
   "outputs": [
    {
     "ename": "KeyboardInterrupt",
     "evalue": "Interrupted by user",
     "output_type": "error",
     "traceback": [
      "\u001b[31m---------------------------------------------------------------------------\u001b[39m",
      "\u001b[31mKeyboardInterrupt\u001b[39m                         Traceback (most recent call last)",
      "\u001b[36mCell\u001b[39m\u001b[36m \u001b[39m\u001b[32mIn[1]\u001b[39m\u001b[32m, line 1\u001b[39m\n\u001b[32m----> \u001b[39m\u001b[32m1\u001b[39m num = \u001b[38;5;28mint\u001b[39m(\u001b[38;5;28;43minput\u001b[39;49m\u001b[43m(\u001b[49m\u001b[33;43m\"\u001b[39;49m\u001b[33;43mEnter Number\u001b[39;49m\u001b[33;43m\"\u001b[39;49m\u001b[43m)\u001b[49m)\n\u001b[32m      2\u001b[39m \u001b[38;5;28;01mfor\u001b[39;00m i \u001b[38;5;129;01min\u001b[39;00m \u001b[38;5;28mrange\u001b[39m(\u001b[32m1\u001b[39m,\u001b[32m11\u001b[39m):\n\u001b[32m      3\u001b[39m    \u001b[38;5;28mprint\u001b[39m(\u001b[33mf\u001b[39m\u001b[33m\"\u001b[39m\u001b[38;5;132;01m{\u001b[39;00mnum\u001b[38;5;132;01m}\u001b[39;00m\u001b[33m x \u001b[39m\u001b[38;5;132;01m{\u001b[39;00mi\u001b[38;5;132;01m}\u001b[39;00m\u001b[33m = \u001b[39m\u001b[38;5;132;01m{\u001b[39;00mnum*i\u001b[38;5;132;01m}\u001b[39;00m\u001b[33m\"\u001b[39m)\n",
      "\u001b[36mFile \u001b[39m\u001b[32m~\\AppData\\Roaming\\Python\\Python313\\site-packages\\ipykernel\\kernelbase.py:1282\u001b[39m, in \u001b[36mKernel.raw_input\u001b[39m\u001b[34m(self, prompt)\u001b[39m\n\u001b[32m   1280\u001b[39m     msg = \u001b[33m\"\u001b[39m\u001b[33mraw_input was called, but this frontend does not support input requests.\u001b[39m\u001b[33m\"\u001b[39m\n\u001b[32m   1281\u001b[39m     \u001b[38;5;28;01mraise\u001b[39;00m StdinNotImplementedError(msg)\n\u001b[32m-> \u001b[39m\u001b[32m1282\u001b[39m \u001b[38;5;28;01mreturn\u001b[39;00m \u001b[38;5;28;43mself\u001b[39;49m\u001b[43m.\u001b[49m\u001b[43m_input_request\u001b[49m\u001b[43m(\u001b[49m\n\u001b[32m   1283\u001b[39m \u001b[43m    \u001b[49m\u001b[38;5;28;43mstr\u001b[39;49m\u001b[43m(\u001b[49m\u001b[43mprompt\u001b[49m\u001b[43m)\u001b[49m\u001b[43m,\u001b[49m\n\u001b[32m   1284\u001b[39m \u001b[43m    \u001b[49m\u001b[38;5;28;43mself\u001b[39;49m\u001b[43m.\u001b[49m\u001b[43m_parent_ident\u001b[49m\u001b[43m[\u001b[49m\u001b[33;43m\"\u001b[39;49m\u001b[33;43mshell\u001b[39;49m\u001b[33;43m\"\u001b[39;49m\u001b[43m]\u001b[49m\u001b[43m,\u001b[49m\n\u001b[32m   1285\u001b[39m \u001b[43m    \u001b[49m\u001b[38;5;28;43mself\u001b[39;49m\u001b[43m.\u001b[49m\u001b[43mget_parent\u001b[49m\u001b[43m(\u001b[49m\u001b[33;43m\"\u001b[39;49m\u001b[33;43mshell\u001b[39;49m\u001b[33;43m\"\u001b[39;49m\u001b[43m)\u001b[49m\u001b[43m,\u001b[49m\n\u001b[32m   1286\u001b[39m \u001b[43m    \u001b[49m\u001b[43mpassword\u001b[49m\u001b[43m=\u001b[49m\u001b[38;5;28;43;01mFalse\u001b[39;49;00m\u001b[43m,\u001b[49m\n\u001b[32m   1287\u001b[39m \u001b[43m\u001b[49m\u001b[43m)\u001b[49m\n",
      "\u001b[36mFile \u001b[39m\u001b[32m~\\AppData\\Roaming\\Python\\Python313\\site-packages\\ipykernel\\kernelbase.py:1325\u001b[39m, in \u001b[36mKernel._input_request\u001b[39m\u001b[34m(self, prompt, ident, parent, password)\u001b[39m\n\u001b[32m   1322\u001b[39m \u001b[38;5;28;01mexcept\u001b[39;00m \u001b[38;5;167;01mKeyboardInterrupt\u001b[39;00m:\n\u001b[32m   1323\u001b[39m     \u001b[38;5;66;03m# re-raise KeyboardInterrupt, to truncate traceback\u001b[39;00m\n\u001b[32m   1324\u001b[39m     msg = \u001b[33m\"\u001b[39m\u001b[33mInterrupted by user\u001b[39m\u001b[33m\"\u001b[39m\n\u001b[32m-> \u001b[39m\u001b[32m1325\u001b[39m     \u001b[38;5;28;01mraise\u001b[39;00m \u001b[38;5;167;01mKeyboardInterrupt\u001b[39;00m(msg) \u001b[38;5;28;01mfrom\u001b[39;00m\u001b[38;5;250m \u001b[39m\u001b[38;5;28;01mNone\u001b[39;00m\n\u001b[32m   1326\u001b[39m \u001b[38;5;28;01mexcept\u001b[39;00m \u001b[38;5;167;01mException\u001b[39;00m:\n\u001b[32m   1327\u001b[39m     \u001b[38;5;28mself\u001b[39m.log.warning(\u001b[33m\"\u001b[39m\u001b[33mInvalid Message:\u001b[39m\u001b[33m\"\u001b[39m, exc_info=\u001b[38;5;28;01mTrue\u001b[39;00m)\n",
      "\u001b[31mKeyboardInterrupt\u001b[39m: Interrupted by user"
     ]
    }
   ],
   "source": [
    "# Q4. Create a program that prints the multiplication table of a given number.\n",
    "num = int(input(\"Enter Number\"))\n",
    "for i in range(1,11):\n",
    "   print(f\"{num} x {i} = {num*i}\")"
   ]
  },
  {
   "cell_type": "code",
   "execution_count": null,
   "id": "c91ab4ed",
   "metadata": {},
   "outputs": [
    {
     "name": "stdout",
     "output_type": "stream",
     "text": [
      "4569\n"
     ]
    }
   ],
   "source": [
    "# Q5. Write a program to find the largest of three numbers.\n",
    "num1 =  int(input(\"Enter Number 1: \"))\n",
    "num2 =  int(input(\"Enter Number 2: \"))\n",
    "num3 =  int(input(\"Enter Number 3: \"))\n",
    "if (num1>=num2) or (num1>=num3):\n",
    "   largest= num1 \n",
    "elif (num2>=num1) or (num2>=num3):\n",
    "   largest= num2\n",
    "else:\n",
    "   largest = num3\n",
    "\n",
    "print(largest)\n",
    "   "
   ]
  },
  {
   "cell_type": "code",
   "execution_count": null,
   "id": "ee458701",
   "metadata": {},
   "outputs": [
    {
     "name": "stdout",
     "output_type": "stream",
     "text": [
      "3.0°F is equal to -16.11°C\n"
     ]
    }
   ],
   "source": [
    "# Q6. Convert temperature from Celsius to Fahrenheit.\n",
    "# Input temperature in Fahrenheit\n",
    "fahrenheit = float(input(\"Enter temperature in Fahrenheit: \"))\n",
    "\n",
    "# Convert Fahrenheit to Celsius\n",
    "celsius = (fahrenheit - 32) * 5 / 9\n",
    "\n",
    "# Display the result\n",
    "print(f\"{fahrenheit}°F is equal to {celsius:.2f}°C\")\n",
    "# dabut\n"
   ]
  },
  {
   "cell_type": "code",
   "execution_count": null,
   "id": "4fcf7b10",
   "metadata": {},
   "outputs": [
    {
     "name": "stdout",
     "output_type": "stream",
     "text": [
      "120\n"
     ]
    }
   ],
   "source": [
    "# Q7. Write a program to calculate the factorial of a number using a loop.\n",
    "N = int(input(\"Enter number..\"))\n",
    "sum = 1\n",
    "for i in range(2,N+1):\n",
    "  sum*=i\n",
    "print(sum)"
   ]
  },
  {
   "cell_type": "code",
   "execution_count": null,
   "id": "97b83ef2",
   "metadata": {},
   "outputs": [
    {
     "name": "stdout",
     "output_type": "stream",
     "text": [
      "The value of Vowel is 2 and Constant is 3\n"
     ]
    }
   ],
   "source": [
    "# Q8. Create a program to count the number of vowels in a string.\n",
    "val = input(\"Enter name\")\n",
    "vowal = \"AEIOUaeiou\"\n",
    "v_count=0\n",
    "c_count=0\n",
    "for i in val:\n",
    " if i in vowal:\n",
    "   v_count+=1\n",
    " else: \n",
    "   c_count+=1\n",
    "\n",
    "print(f\"The value of Vowel is {v_count} and Constant is {c_count}\")\n",
    "  \n"
   ]
  },
  {
   "cell_type": "code",
   "execution_count": null,
   "id": "793f366f",
   "metadata": {},
   "outputs": [],
   "source": []
  },
  {
   "cell_type": "code",
   "execution_count": null,
   "id": "84e240cf",
   "metadata": {},
   "outputs": [
    {
     "name": "stdout",
     "output_type": "stream",
     "text": [
      "hsuya hsuyA\n"
     ]
    }
   ],
   "source": [
    "# Q9. Write a Python script to reverse a given string\n",
    "a = \"Ayush ayush\" \n",
    "\"\"\n",
    "rev= \"\"\n",
    "for i in a:\n",
    "  rev = i + rev\n",
    "print(rev)"
   ]
  },
  {
   "cell_type": "code",
   "execution_count": null,
   "id": "f69100f2",
   "metadata": {},
   "outputs": [
    {
     "name": "stdout",
     "output_type": "stream",
     "text": [
      "Pilimdrone\n"
     ]
    }
   ],
   "source": [
    "# Q10. Check if a number is a palindrome.\n",
    "s = \"malylam\"\n",
    "if s==s[::-1]:\n",
    "  print(\"Pilimdrone\")\n",
    "else: \n",
    "  print(\"not one \")"
   ]
  },
  {
   "cell_type": "code",
   "execution_count": null,
   "id": "0479457f",
   "metadata": {},
   "outputs": [
    {
     "name": "stdout",
     "output_type": "stream",
     "text": [
      " hsuya\n"
     ]
    }
   ],
   "source": [
    "\n",
    "\n"
   ]
  },
  {
   "cell_type": "code",
   "execution_count": null,
   "id": "f88422f1",
   "metadata": {},
   "outputs": [],
   "source": []
  },
  {
   "cell_type": "code",
   "execution_count": null,
   "id": "36abf133",
   "metadata": {},
   "outputs": [
    {
     "name": "stdout",
     "output_type": "stream",
     "text": [
      "190\n"
     ]
    }
   ],
   "source": [
    "# Q11. Write a program to find the sum of first N natural numbers.\n",
    "\n",
    "num = int(input(\"Enter\"))\n",
    "sum = 0 \n",
    "for i in range(1,num+1):\n",
    "   sum +=i\n",
    "print(sum)\n",
    "  \n"
   ]
  },
  {
   "cell_type": "code",
   "execution_count": null,
   "id": "8afda074",
   "metadata": {},
   "outputs": [
    {
     "name": "stdout",
     "output_type": "stream",
     "text": [
      "🎯 Guess the Number Game (Binary Hint Style)!\n",
      "I have chosen a number between 1 and 100.\n",
      "⬇️ Too high!\n",
      "⬇️ Too high!\n",
      "⬇️ Too high!\n",
      "⬇️ Too high!\n",
      "⬇️ Too high!\n",
      "⬇️ Too high!\n",
      "⬇️ Too high!\n",
      "🎉 Correct! The number was 2. Attempts: 8\n"
     ]
    }
   ],
   "source": [
    "# Q12. Create a number guessing game.\n",
    "import random\n",
    "\n",
    "# 1. Secret number choose (1-100)\n",
    "secret = random.randint(1, 100)\n",
    "\n",
    "print(\"🎯 Guess the Number Game (Binary Hint Style)!\")\n",
    "print(\"I have chosen a number between 1 and 100.\")\n",
    "\n",
    "low, high = 1, 100\n",
    "attempts = 0\n",
    "\n",
    "while True:\n",
    "    guess = int(input(f\"Enter your guess ({low}-{high}): \"))\n",
    "    attempts += 1\n",
    "    \n",
    "    if guess == secret:\n",
    "        print(f\"🎉 Correct! The number was {secret}. Attempts: {attempts}\")\n",
    "        break\n",
    "    elif guess < secret:\n",
    "        print(\"⬆️ Too low!\")\n",
    "        low = max(low, guess + 1)  # Hint: number is higher\n",
    "    else:\n",
    "        print(\"⬇️ Too high!\")\n",
    "        high = min(high, guess - 1)  # Hint: number is lower\n"
   ]
  },
  {
   "cell_type": "code",
   "execution_count": null,
   "id": "91f81619",
   "metadata": {},
   "outputs": [
    {
     "name": "stdout",
     "output_type": "stream",
     "text": [
      "1\n",
      "2\n",
      "3\n",
      "5\n",
      "7\n",
      "11\n",
      "13\n",
      "17\n",
      "19\n",
      "23\n",
      "29\n",
      "31\n",
      "37\n",
      "41\n",
      "43\n",
      "47\n",
      "53\n",
      "59\n",
      "61\n",
      "67\n",
      "71\n",
      "73\n",
      "79\n",
      "83\n",
      "89\n",
      "97\n"
     ]
    }
   ],
   "source": [
    "# Q13. Write a program to print all prime numbers between 1 and 100\n",
    "import math\n",
    "for num in range(1,101):\n",
    "  is_Prime= True\n",
    "  for n in range(2,int(math.sqrt(num))+1):\n",
    "    if num%n ==0:\n",
    "     is_Prime= False\n",
    "     break\n",
    "  if is_Prime:\n",
    "    print(num)"
   ]
  },
  {
   "cell_type": "code",
   "execution_count": null,
   "id": "5a83d9a6",
   "metadata": {},
   "outputs": [
    {
     "name": "stdout",
     "output_type": "stream",
     "text": [
      "Not Leap Year\n"
     ]
    }
   ],
   "source": [
    "# Q14. Check if a given year is a leap year or not.\n",
    "Year = int(input(\"Enter Year...\"))\n",
    "if(Year%4==0)or (Year %400 == 0):\n",
    "  print(\"Year is leap \")\n",
    "else:\n",
    "  print(\"Not Leap Year\")"
   ]
  },
  {
   "cell_type": "code",
   "execution_count": null,
   "id": "6c928355",
   "metadata": {},
   "outputs": [
    {
     "name": "stdout",
     "output_type": "stream",
     "text": [
      "0 1 1 2 3 5 8 13 21 34 "
     ]
    }
   ],
   "source": [
    "# Q15. Create a program to print the Fibonacci series up to N terms\n",
    "N = int(input(\"Enter Number..\"))\n",
    "a = 0 \n",
    "b=1 \n",
    "for i in range(N):\n",
    "  print(a,end=\" \")\n",
    "  a,b=b,a+b\n"
   ]
  },
  {
   "cell_type": "code",
   "execution_count": null,
   "id": "73aa5fee",
   "metadata": {},
   "outputs": [],
   "source": [
    "# Q16. Write a program to find the GCD of two numbers"
   ]
  },
  {
   "cell_type": "code",
   "execution_count": null,
   "id": "7acde708",
   "metadata": {},
   "outputs": [],
   "source": [
    "# Q17. Write a program to find the LCM of two numbers."
   ]
  },
  {
   "cell_type": "code",
   "execution_count": null,
   "id": "e10eb62d",
   "metadata": {},
   "outputs": [],
   "source": [
    "# Q18. Check whether a character is a vowel or consonant."
   ]
  },
  {
   "cell_type": "code",
   "execution_count": null,
   "id": "439d02e8",
   "metadata": {},
   "outputs": [],
   "source": [
    "# Q19. Write a program to calculate the sum of digits of a number"
   ]
  },
  {
   "cell_type": "code",
   "execution_count": null,
   "id": "a6c430f8",
   "metadata": {},
   "outputs": [],
   "source": [
    "# Q20. Create a program to find the second largest number in a list."
   ]
  },
  {
   "cell_type": "code",
   "execution_count": null,
   "id": "69799d73",
   "metadata": {},
   "outputs": [],
   "source": [
    "# Q21. Write a program to count the number of digits in an integer."
   ]
  },
  {
   "cell_type": "code",
   "execution_count": null,
   "id": "1dfbfb88",
   "metadata": {},
   "outputs": [],
   "source": [
    "# Q22. Create a program to print all Armstrong numbers between 1 to 1000"
   ]
  },
  {
   "cell_type": "code",
   "execution_count": null,
   "id": "ddbc2ad0",
   "metadata": {},
   "outputs": [],
   "source": [
    "# Q23. Write a Python program to print a pattern of stars in a triangle."
   ]
  },
  {
   "cell_type": "code",
   "execution_count": null,
   "id": "c2e08396",
   "metadata": {},
   "outputs": [],
   "source": [
    "# Q24. Create a calculator app using if-else."
   ]
  },
  {
   "cell_type": "code",
   "execution_count": null,
   "id": "9e20f21c",
   "metadata": {},
   "outputs": [],
   "source": [
    "# Q25. Write a program to display the ASCII value of a character."
   ]
  },
  {
   "cell_type": "code",
   "execution_count": null,
   "id": "bc5c07bf",
   "metadata": {},
   "outputs": [],
   "source": [
    "# Q26. Convert a decimal number to binary using loops.."
   ]
  },
  {
   "cell_type": "code",
   "execution_count": null,
   "id": "c8f677a3",
   "metadata": {},
   "outputs": [],
   "source": [
    "# Q27. Create a program to find the square root of a number"
   ]
  },
  {
   "cell_type": "code",
   "execution_count": null,
   "id": "fb212795",
   "metadata": {},
   "outputs": [],
   "source": [
    "# Q28. Write a program to find the sum of all even numbers in a list."
   ]
  },
  {
   "cell_type": "code",
   "execution_count": null,
   "id": "fd10779b",
   "metadata": {},
   "outputs": [],
   "source": [
    "\n",
    "# Q29. Create a program to check whether a number is prime or not"
   ]
  },
  {
   "cell_type": "code",
   "execution_count": null,
   "id": "ec005dc2",
   "metadata": {},
   "outputs": [],
   "source": [
    "# Q30. Write a program to display the cube of the number up to an integer"
   ]
  }
 ],
 "metadata": {
  "kernelspec": {
   "display_name": "base",
   "language": "python",
   "name": "python3"
  },
  "language_info": {
   "codemirror_mode": {
    "name": "ipython",
    "version": 3
   },
   "file_extension": ".py",
   "mimetype": "text/x-python",
   "name": "python",
   "nbconvert_exporter": "python",
   "pygments_lexer": "ipython3",
   "version": "3.13.5"
  }
 },
 "nbformat": 4,
 "nbformat_minor": 5
}
