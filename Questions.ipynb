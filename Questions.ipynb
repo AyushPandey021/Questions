{
 "cells": [
  {
   "cell_type": "code",
   "execution_count": null,
   "id": "f681a1f1",
   "metadata": {},
   "outputs": [],
   "source": []
  },
  {
   "cell_type": "code",
   "execution_count": 1,
   "id": "f31961f7",
   "metadata": {},
   "outputs": [
    {
     "name": "stdout",
     "output_type": "stream",
     "text": [
      "(7, 4)\n"
     ]
    }
   ],
   "source": [
    "a = 4 \n",
    "b = 7 \n",
    "c = a ,b  = b , a\n",
    "print(c)"
   ]
  },
  {
   "cell_type": "code",
   "execution_count": null,
   "id": "ecab7763",
   "metadata": {},
   "outputs": [],
   "source": [
    "user_Input = input(\"Enter something..\")\n",
    "print(user_Input)"
   ]
  },
  {
   "cell_type": "code",
   "execution_count": null,
   "id": "77a62fad",
   "metadata": {},
   "outputs": [
    {
     "name": "stdout",
     "output_type": "stream",
     "text": [
      "Number is Even\n"
     ]
    }
   ],
   "source": [
    "num = int(input(\"Enter Number\"))\n",
    "if num % 2 ==0:\n",
    "  print(\"Number is Even\")\n",
    "else:\n",
    "  print(\"Numver is Odd\")"
   ]
  },
  {
   "cell_type": "code",
   "execution_count": null,
   "id": "f4ec1004",
   "metadata": {},
   "outputs": [
    {
     "name": "stdout",
     "output_type": "stream",
     "text": [
      "5 x 1 = 5\n",
      "5 x 2 = 10\n",
      "5 x 3 = 15\n",
      "5 x 4 = 20\n",
      "5 x 5 = 25\n",
      "5 x 6 = 30\n",
      "5 x 7 = 35\n",
      "5 x 8 = 40\n",
      "5 x 9 = 45\n",
      "5 x 10 = 50\n"
     ]
    }
   ],
   "source": [
    "num = int(input(\"Enter Number\"))\n",
    "for i in range(1,11):\n",
    "   print(f\"{num} x {i} = {num*i}\")"
   ]
  },
  {
   "cell_type": "code",
   "execution_count": null,
   "id": "c91ab4ed",
   "metadata": {},
   "outputs": [
    {
     "name": "stdout",
     "output_type": "stream",
     "text": [
      "4569\n"
     ]
    }
   ],
   "source": [
    "num1 =  int(input(\"Enter Number 1: \"))\n",
    "num2 =  int(input(\"Enter Number 2: \"))\n",
    "num3 =  int(input(\"Enter Number 3: \"))\n",
    "if (num1>=num2) or (num1>=num3):\n",
    "   largest= num1 \n",
    "elif (num2>=num1) or (num2>=num3):\n",
    "   largest= num2\n",
    "else:\n",
    "   largest = num3\n",
    "\n",
    "print(largest)\n",
    "   "
   ]
  },
  {
   "cell_type": "code",
   "execution_count": null,
   "id": "ee458701",
   "metadata": {},
   "outputs": [
    {
     "name": "stdout",
     "output_type": "stream",
     "text": [
      "3.0°F is equal to -16.11°C\n"
     ]
    }
   ],
   "source": [
    "# Input temperature in Fahrenheit\n",
    "fahrenheit = float(input(\"Enter temperature in Fahrenheit: \"))\n",
    "\n",
    "# Convert Fahrenheit to Celsius\n",
    "celsius = (fahrenheit - 32) * 5 / 9\n",
    "\n",
    "# Display the result\n",
    "print(f\"{fahrenheit}°F is equal to {celsius:.2f}°C\")\n",
    "# dabut\n"
   ]
  },
  {
   "cell_type": "code",
   "execution_count": null,
   "id": "84e240cf",
   "metadata": {},
   "outputs": [
    {
     "name": "stdout",
     "output_type": "stream",
     "text": [
      "hsuya hsuyA\n"
     ]
    }
   ],
   "source": [
    "a = \"Ayush ayush\" \n",
    "\"\"\n",
    "rev= \"\"\n",
    "for i in a:\n",
    "  rev = i + rev\n",
    "print(rev)"
   ]
  },
  {
   "cell_type": "code",
   "execution_count": null,
   "id": "f69100f2",
   "metadata": {},
   "outputs": [],
   "source": []
  },
  {
   "cell_type": "code",
   "execution_count": 15,
   "id": "0479457f",
   "metadata": {},
   "outputs": [
    {
     "name": "stdout",
     "output_type": "stream",
     "text": [
      "not\n"
     ]
    }
   ],
   "source": [
    "a= \"mom\"\n",
    "rev =\" \"\n",
    "i = len(a)-1\n",
    "while i >=0:\n",
    "  rev+=a[i]\n",
    "  i -=1\n",
    "if a==rev:\n",
    "  print(\"pil\")\n",
    "else:\n",
    "  print(\"not\")\n"
   ]
  },
  {
   "cell_type": "code",
   "execution_count": null,
   "id": "36abf133",
   "metadata": {},
   "outputs": [],
   "source": [
    "\n",
    "git init\n",
    "git add .\n",
    "git commit -m \"first commit\"\n",
    "git branch -M main\n",
    "git remote add origin https://github.com/AyushPandey021/Questions.git\n",
    "git push -u origin main"
   ]
  },
  {
   "cell_type": "code",
   "execution_count": null,
   "id": "8afda074",
   "metadata": {},
   "outputs": [],
   "source": []
  },
  {
   "cell_type": "code",
   "execution_count": null,
   "id": "91f81619",
   "metadata": {},
   "outputs": [],
   "source": []
  },
  {
   "cell_type": "code",
   "execution_count": null,
   "id": "5a83d9a6",
   "metadata": {},
   "outputs": [],
   "source": []
  },
  {
   "cell_type": "code",
   "execution_count": null,
   "id": "6c928355",
   "metadata": {},
   "outputs": [],
   "source": []
  },
  {
   "cell_type": "code",
   "execution_count": null,
   "id": "73aa5fee",
   "metadata": {},
   "outputs": [],
   "source": []
  },
  {
   "cell_type": "code",
   "execution_count": null,
   "id": "7acde708",
   "metadata": {},
   "outputs": [],
   "source": []
  },
  {
   "cell_type": "code",
   "execution_count": null,
   "id": "e10eb62d",
   "metadata": {},
   "outputs": [],
   "source": []
  },
  {
   "cell_type": "code",
   "execution_count": null,
   "id": "439d02e8",
   "metadata": {},
   "outputs": [],
   "source": []
  },
  {
   "cell_type": "code",
   "execution_count": null,
   "id": "a6c430f8",
   "metadata": {},
   "outputs": [],
   "source": []
  }
 ],
 "metadata": {
  "kernelspec": {
   "display_name": "Python 3",
   "language": "python",
   "name": "python3"
  },
  "language_info": {
   "codemirror_mode": {
    "name": "ipython",
    "version": 3
   },
   "file_extension": ".py",
   "mimetype": "text/x-python",
   "name": "python",
   "nbconvert_exporter": "python",
   "pygments_lexer": "ipython3",
   "version": "3.13.0"
  }
 },
 "nbformat": 4,
 "nbformat_minor": 5
}
