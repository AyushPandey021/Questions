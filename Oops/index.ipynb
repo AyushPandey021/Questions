{
 "cells": [
  {
   "cell_type": "code",
   "execution_count": null,
   "id": "c16f0932",
   "metadata": {},
   "outputs": [],
   "source": []
  },
  {
   "cell_type": "code",
   "execution_count": 2,
   "id": "db0ba212",
   "metadata": {},
   "outputs": [
    {
     "name": "stdout",
     "output_type": "stream",
     "text": [
      "True\n"
     ]
    }
   ],
   "source": [
    "# Q1. Write a Python program to check if a string has all unique characters\n",
    "class Uni: \n",
    "   def __init__(self,name):\n",
    "      self.name = name\n",
    "   def ck(self):\n",
    "    seen= set()\n",
    "    for i in self.name.lower():\n",
    "      if i in seen: \n",
    "        return False\n",
    "      seen.add(i)\n",
    "    return True\n",
    "check = Uni(\"ayu\" )\n",
    "print(check.ck())\n",
    "   \n",
    "   "
   ]
  },
  {
   "cell_type": "code",
   "execution_count": 3,
   "id": "1fd5fdb1",
   "metadata": {},
   "outputs": [
    {
     "name": "stdout",
     "output_type": "stream",
     "text": [
      "namste\n"
     ]
    }
   ],
   "source": [
    "# Q2. Create a program that removes all duplicate characters from a string.\n",
    "class rmv:\n",
    "   def __init__(self,text):\n",
    "      self.text = text\n",
    "   def rm_duplicate(self):\n",
    "      seen = set()\n",
    "      result =\"\"\n",
    "      for i in self.text.lower():\n",
    "        if i not in seen: \n",
    "           result +=i\n",
    "           seen.add(i)\n",
    "      return result\n",
    "check= rmv(\"Namaste\")\n",
    "\n",
    "\n",
    "print(check.rm_duplicate())"
   ]
  },
  {
   "cell_type": "code",
   "execution_count": 54,
   "id": "116aa98e",
   "metadata": {},
   "outputs": [
    {
     "name": "stdout",
     "output_type": "stream",
     "text": [
      "{'H': 1, 'e': 1, 'y': 2}\n"
     ]
    }
   ],
   "source": [
    "#  Write a script to count the frequency of each character in a string.\n",
    "class freq:\n",
    "  def __init__(self,text):\n",
    "    self.text = text \n",
    "  def ck(self):\n",
    "    fre = {}\n",
    "    for i in self.text:\n",
    "      fre[i] = fre.get(i,0)+1\n",
    "    return fre\n",
    "f = freq(\"Heyy\")\n",
    "print(f.ck())    "
   ]
  },
  {
   "cell_type": "code",
   "execution_count": 75,
   "id": "3a5478d2",
   "metadata": {},
   "outputs": [
    {
     "name": "stdout",
     "output_type": "stream",
     "text": [
      "Total uppercase is : 11\n",
      "Total lowercase is : 14\n"
     ]
    }
   ],
   "source": [
    "# Write a program that accepts a sentence and calculates the number of upper and lower case letters.\n",
    "class hl:\n",
    "  def __init__(self,text):\n",
    "    self.text =text\n",
    "  def count_u(self):\n",
    "    count= 0 \n",
    "  \n",
    "    for i in self.text:\n",
    "     if i == i.upper():\n",
    "       count+=1\n",
    "    \n",
    "       \n",
    "    return count\n",
    "  def count_l(self):\n",
    "    vcount=0 \n",
    "  \n",
    "    for i in self.text:\n",
    "     if i == i.lower():\n",
    "      vcount+=1\n",
    "    \n",
    "       \n",
    "    return vcount\n",
    "    \n",
    "f = hl(\"AysudkansklAMDKNnKNKnnKNn\")\n",
    "print(\"Total uppercase is :\", f.count_u())\n",
    "print (\"Total lowercase is :\",f.count_l())"
   ]
  },
  {
   "cell_type": "code",
   "execution_count": 76,
   "id": "9a7865f1",
   "metadata": {},
   "outputs": [
    {
     "name": "stdout",
     "output_type": "stream",
     "text": [
      "hakikat\n"
     ]
    }
   ],
   "source": [
    "\n",
    "# Q5. Create a program to find the longest word in a sentence.\n",
    "class long:\n",
    "  def __init__(self,text):\n",
    "\n",
    "    self.text = text\n",
    "  def ck(self):\n",
    "    word = self.text.split()\n",
    "    lon= max(word ,key=len)\n",
    "    return lon\n",
    "c = long(\"Tere dar to hakikat me dukhyo ka sahara h \")\n",
    "print(c.ck())"
   ]
  },
  {
   "cell_type": "code",
   "execution_count": null,
   "id": "d46afbbb",
   "metadata": {},
   "outputs": [],
   "source": [
    "\n"
   ]
  },
  {
   "cell_type": "code",
   "execution_count": null,
   "id": "e4642254",
   "metadata": {},
   "outputs": [],
   "source": []
  },
  {
   "cell_type": "code",
   "execution_count": null,
   "id": "63a46331",
   "metadata": {},
   "outputs": [],
   "source": []
  },
  {
   "cell_type": "code",
   "execution_count": null,
   "id": "8576e924",
   "metadata": {},
   "outputs": [],
   "source": []
  },
  {
   "cell_type": "code",
   "execution_count": null,
   "id": "67dc6274",
   "metadata": {},
   "outputs": [],
   "source": []
  },
  {
   "cell_type": "code",
   "execution_count": null,
   "id": "ea285353",
   "metadata": {},
   "outputs": [],
   "source": []
  },
  {
   "cell_type": "code",
   "execution_count": null,
   "id": "b4766311",
   "metadata": {},
   "outputs": [],
   "source": []
  },
  {
   "cell_type": "code",
   "execution_count": null,
   "id": "250ca742",
   "metadata": {},
   "outputs": [],
   "source": []
  },
  {
   "cell_type": "code",
   "execution_count": null,
   "id": "d96bd8a7",
   "metadata": {},
   "outputs": [],
   "source": []
  },
  {
   "cell_type": "code",
   "execution_count": null,
   "id": "83963af9",
   "metadata": {},
   "outputs": [],
   "source": []
  },
  {
   "cell_type": "code",
   "execution_count": 46,
   "id": "cee3a522",
   "metadata": {},
   "outputs": [
    {
     "name": "stdout",
     "output_type": "stream",
     "text": [
      "bhagat\n"
     ]
    }
   ],
   "source": [
    "class c:\n",
    "  def __init__(self,text):\n",
    "    self.text = text\n",
    "  def  ck(self):\n",
    "    word = self.text.split()\n",
    "    lon = max(word, key=len)\n",
    "    return lon\n",
    "   \n",
    "    \n",
    "a=c(\"kre bhagat ho arti mai tori birya \")\n",
    "print(a.ck())"
   ]
  },
  {
   "cell_type": "code",
   "execution_count": null,
   "id": "64368912",
   "metadata": {},
   "outputs": [],
   "source": []
  },
  {
   "cell_type": "code",
   "execution_count": null,
   "id": "c90a0460",
   "metadata": {},
   "outputs": [],
   "source": []
  },
  {
   "cell_type": "code",
   "execution_count": null,
   "id": "4cff472c",
   "metadata": {},
   "outputs": [],
   "source": []
  },
  {
   "cell_type": "code",
   "execution_count": null,
   "id": "352355d8",
   "metadata": {},
   "outputs": [],
   "source": []
  },
  {
   "cell_type": "code",
   "execution_count": null,
   "id": "88601a08",
   "metadata": {},
   "outputs": [],
   "source": []
  },
  {
   "cell_type": "code",
   "execution_count": null,
   "id": "5a7642c8",
   "metadata": {},
   "outputs": [],
   "source": []
  },
  {
   "cell_type": "code",
   "execution_count": null,
   "id": "48ca99de",
   "metadata": {},
   "outputs": [],
   "source": []
  },
  {
   "cell_type": "code",
   "execution_count": null,
   "id": "d2a81fb4",
   "metadata": {},
   "outputs": [],
   "source": []
  },
  {
   "cell_type": "code",
   "execution_count": null,
   "id": "a708c5dd",
   "metadata": {},
   "outputs": [],
   "source": []
  },
  {
   "cell_type": "code",
   "execution_count": null,
   "id": "517c8d37",
   "metadata": {},
   "outputs": [],
   "source": []
  },
  {
   "cell_type": "code",
   "execution_count": null,
   "id": "c5f30bcb",
   "metadata": {},
   "outputs": [],
   "source": []
  },
  {
   "cell_type": "code",
   "execution_count": null,
   "id": "a21b6df4",
   "metadata": {},
   "outputs": [],
   "source": []
  },
  {
   "cell_type": "code",
   "execution_count": null,
   "id": "f1923bfe",
   "metadata": {},
   "outputs": [],
   "source": []
  },
  {
   "cell_type": "code",
   "execution_count": null,
   "id": "12a6808f",
   "metadata": {},
   "outputs": [],
   "source": []
  },
  {
   "cell_type": "code",
   "execution_count": null,
   "id": "c1550563",
   "metadata": {},
   "outputs": [],
   "source": []
  },
  {
   "cell_type": "code",
   "execution_count": null,
   "id": "98b2dc2e",
   "metadata": {},
   "outputs": [],
   "source": []
  },
  {
   "cell_type": "code",
   "execution_count": null,
   "id": "0b5c0a3b",
   "metadata": {},
   "outputs": [],
   "source": []
  },
  {
   "cell_type": "code",
   "execution_count": null,
   "id": "fed3f14c",
   "metadata": {},
   "outputs": [],
   "source": []
  },
  {
   "cell_type": "code",
   "execution_count": null,
   "id": "38c7c74b",
   "metadata": {},
   "outputs": [],
   "source": []
  }
 ],
 "metadata": {
  "kernelspec": {
   "display_name": "base",
   "language": "python",
   "name": "python3"
  },
  "language_info": {
   "codemirror_mode": {
    "name": "ipython",
    "version": 3
   },
   "file_extension": ".py",
   "mimetype": "text/x-python",
   "name": "python",
   "nbconvert_exporter": "python",
   "pygments_lexer": "ipython3",
   "version": "3.13.5"
  }
 },
 "nbformat": 4,
 "nbformat_minor": 5
}
