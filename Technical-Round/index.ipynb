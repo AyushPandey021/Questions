{
 "cells": [
  {
   "cell_type": "code",
   "execution_count": 12,
   "id": "8ccbdea7",
   "metadata": {},
   "outputs": [],
   "source": [
    "with open(\"Question.md\") as f : \n",
    "    c = f.read()\n",
    "    # print(c)\n",
    "   "
   ]
  },
  {
   "cell_type": "code",
   "execution_count": 13,
   "id": "dde2d023",
   "metadata": {},
   "outputs": [
    {
     "name": "stdout",
     "output_type": "stream",
     "text": [
      "Ayush Pandey \n",
      "None\n"
     ]
    }
   ],
   "source": [
    "class Ap:\n",
    "    def __init__(self,name):\n",
    "        self.name = name\n",
    "    def res(self):\n",
    "        print(f\"{self.name}\")\n",
    "a= Ap(\"Ayush Pandey \")\n",
    "print(a.res())"
   ]
  },
  {
   "cell_type": "code",
   "execution_count": 30,
   "id": "875fb252",
   "metadata": {},
   "outputs": [
    {
     "name": "stdout",
     "output_type": "stream",
     "text": [
      "yes \n"
     ]
    }
   ],
   "source": [
    "a = \"ayush\"\n",
    "b= \"ayush\"\n",
    "if a is  b:\n",
    "    print(\"yes \")\n",
    "else: \n",
    "    print(\"False\")"
   ]
  },
  {
   "cell_type": "code",
   "execution_count": 37,
   "id": "2acc7dac",
   "metadata": {},
   "outputs": [
    {
     "name": "stdout",
     "output_type": "stream",
     "text": [
      "[2, 3, 4, 5, 3, 6, 6, 8, 4, 2, 6, 8, 9, 1]\n"
     ]
    }
   ],
   "source": [
    "a =  [2,3,4,5,3,6,6]\n",
    "b =  [8,4,2,6,8,9,1]\n",
    "c = a+b\n",
    "print(c)"
   ]
  },
  {
   "cell_type": "code",
   "execution_count": 39,
   "id": "2dfb0807",
   "metadata": {},
   "outputs": [
    {
     "name": "stdout",
     "output_type": "stream",
     "text": [
      "[1, 3, 4, 5, 8, 6, 2, 3]\n"
     ]
    }
   ],
   "source": [
    "a  = [1,3,4,5]\n",
    "b = [8,6,2,3]\n",
    "a.extend(b)\n",
    "print(a)\n"
   ]
  },
  {
   "cell_type": "code",
   "execution_count": 43,
   "id": "d8d70d3f",
   "metadata": {},
   "outputs": [
    {
     "name": "stdout",
     "output_type": "stream",
     "text": [
      "   A  B\n",
      "0  1  3\n",
      "1  2  4\n",
      "0  5  7\n",
      "1  6  8\n"
     ]
    }
   ],
   "source": [
    "import pandas as pd\n",
    "df1 = pd.DataFrame({\"A\": [1, 2], \"B\": [3, 4]})\n",
    "df2 = pd.DataFrame({\"A\": [5, 6], \"B\": [7, 8]})\n",
    "c = pd.concat([df1,df2])\n",
    "print(c)"
   ]
  },
  {
   "cell_type": "code",
   "execution_count": 47,
   "id": "692e3be1",
   "metadata": {},
   "outputs": [
    {
     "name": "stdout",
     "output_type": "stream",
     "text": [
      "jay ho 520\n",
      "outside VINAYAK\n"
     ]
    }
   ],
   "source": [
    "b=\"VINAYAK\"\n",
    "def res():\n",
    "    b = 520\n",
    "    print(\"jay ho\",b)\n",
    "res()\n",
    "print(\"outside\",b)"
   ]
  },
  {
   "cell_type": "code",
   "execution_count": 55,
   "id": "d28c56f6",
   "metadata": {},
   "outputs": [
    {
     "name": "stdout",
     "output_type": "stream",
     "text": [
      "56\n"
     ]
    }
   ],
   "source": [
    "p = [3,35,5,7,6]\n",
    "\n",
    "total= 0 \n",
    "i = 0 \n",
    "while i < len(p):\n",
    "\n",
    " total = total + p[i]\n",
    " i =i +1\n",
    "print(total)\n",
    "\n"
   ]
  },
  {
   "cell_type": "code",
   "execution_count": 62,
   "id": "9093b5e7",
   "metadata": {},
   "outputs": [
    {
     "name": "stdout",
     "output_type": "stream",
     "text": [
      "ye dekho  980\n",
      "324\n",
      "980\n"
     ]
    }
   ],
   "source": [
    "d = 980\n",
    "def ap():\n",
    "   k= 324\n",
    "   print(\"ye dekho \",d)\n",
    "   print(k)\n",
    "ap()\n",
    "print(d)\n",
    "\n",
    "\n"
   ]
  },
  {
   "cell_type": "code",
   "execution_count": null,
   "id": "72f2ac1b",
   "metadata": {},
   "outputs": [],
   "source": [
    "# What are Python decorators? (with example)\n"
   ]
  },
  {
   "cell_type": "code",
   "execution_count": null,
   "id": "2d35f0fd",
   "metadata": {},
   "outputs": [],
   "source": []
  },
  {
   "cell_type": "code",
   "execution_count": null,
   "id": "0341fc27",
   "metadata": {},
   "outputs": [],
   "source": []
  },
  {
   "cell_type": "code",
   "execution_count": null,
   "id": "fac03507",
   "metadata": {},
   "outputs": [],
   "source": []
  },
  {
   "cell_type": "code",
   "execution_count": null,
   "id": "e86f8bd6",
   "metadata": {},
   "outputs": [],
   "source": []
  },
  {
   "cell_type": "code",
   "execution_count": null,
   "id": "c729c3a7",
   "metadata": {},
   "outputs": [],
   "source": []
  },
  {
   "cell_type": "code",
   "execution_count": null,
   "id": "00df60dd",
   "metadata": {},
   "outputs": [],
   "source": []
  },
  {
   "cell_type": "code",
   "execution_count": null,
   "id": "a6c108e5",
   "metadata": {},
   "outputs": [],
   "source": []
  },
  {
   "cell_type": "code",
   "execution_count": null,
   "id": "3e5a45b6",
   "metadata": {},
   "outputs": [],
   "source": []
  },
  {
   "cell_type": "code",
   "execution_count": null,
   "id": "4109fa0d",
   "metadata": {},
   "outputs": [],
   "source": []
  },
  {
   "cell_type": "code",
   "execution_count": null,
   "id": "89fadb36",
   "metadata": {},
   "outputs": [],
   "source": []
  },
  {
   "cell_type": "code",
   "execution_count": null,
   "id": "7d97c22b",
   "metadata": {},
   "outputs": [],
   "source": []
  },
  {
   "cell_type": "code",
   "execution_count": null,
   "id": "f5e14c83",
   "metadata": {},
   "outputs": [],
   "source": []
  },
  {
   "cell_type": "code",
   "execution_count": null,
   "id": "8d6626a9",
   "metadata": {},
   "outputs": [],
   "source": []
  }
 ],
 "metadata": {
  "kernelspec": {
   "display_name": "base",
   "language": "python",
   "name": "python3"
  },
  "language_info": {
   "codemirror_mode": {
    "name": "ipython",
    "version": 3
   },
   "file_extension": ".py",
   "mimetype": "text/x-python",
   "name": "python",
   "nbconvert_exporter": "python",
   "pygments_lexer": "ipython3",
   "version": "3.13.5"
  }
 },
 "nbformat": 4,
 "nbformat_minor": 5
}
